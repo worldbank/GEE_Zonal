{
 "cells": [
  {
   "cell_type": "code",
   "execution_count": 2,
   "id": "respected-radiation",
   "metadata": {},
   "outputs": [],
   "source": [
    "import sys\n",
    "import os\n",
    "\n",
    "sys.path.append(os.path.join(os.path.expanduser(\"~\"), \"Repos\", \"GEE_Zonal\", \"src\"))\n",
    "from gee_tools import ZonalStats\n",
    "import geemap\n",
    "import ee\n",
    "\n",
    "ee.Initialize()\n",
    "import geopandas as gpd\n",
    "import pandas as pd"
   ]
  },
  {
   "cell_type": "code",
   "execution_count": 3,
   "id": "marked-confusion",
   "metadata": {},
   "outputs": [],
   "source": [
    "%load_ext autoreload\n",
    "%autoreload 2"
   ]
  },
  {
   "cell_type": "code",
   "execution_count": 7,
   "id": "immediate-spencer",
   "metadata": {},
   "outputs": [
    {
     "name": "stderr",
     "output_type": "stream",
     "text": [
      "C:\\WBG\\Anaconda\\envs\\ee\\lib\\site-packages\\geopandas\\geodataframe.py:577: RuntimeWarning: Sequential read of iterator was interrupted. Resetting iterator. This can negatively impact the performance.\n",
      "  for feature in features_lst:\n"
     ]
    }
   ],
   "source": [
    "ghs_gpkg = gpd.read_file(\n",
    "    r\"P:\\Data\\GLOBAL\\URBAN\\GHS\\GHS_STAT_UCDB2015MT_GLOBE_R2019A\\GHS_STAT_UCDB2015MT_GLOBE_R2019A_V1_2.gpkg\"\n",
    ")"
   ]
  },
  {
   "cell_type": "code",
   "execution_count": 44,
   "id": "executive-wellington",
   "metadata": {},
   "outputs": [
    {
     "data": {
      "text/plain": [
       "Index(['BBX_LATMX', 'BBX_LONMX', 'GCPNT_LAT', 'GCPNT_LON', 'CTR_MN_NM',\n",
       "       'CTR_MN_ISO', 'XBRDR', 'XCTR_NBR', 'XC_NM_LST', 'XC_ISO_LST', 'GRGN_L1',\n",
       "       'GRGN_L2', 'UC_NM_MN', 'UC_NM_LST', 'UC_NM_SRC'],\n",
       "      dtype='object')"
      ]
     },
     "execution_count": 44,
     "metadata": {},
     "output_type": "execute_result"
    }
   ],
   "source": [
    "ghs_gpkg.columns[5:20]"
   ]
  },
  {
   "cell_type": "code",
   "execution_count": 45,
   "id": "thick-delaware",
   "metadata": {},
   "outputs": [],
   "source": [
    "ghs = ghs_gpkg.loc[\n",
    "    :,\n",
    "    [\n",
    "        \"ID_HDC_G0\",\n",
    "        \"QA2_1V\",\n",
    "        \"P15\",\n",
    "        \"AREA\",\n",
    "        \"GCPNT_LAT\",\n",
    "        \"GCPNT_LON\",\n",
    "        \"UC_NM_MN\",\n",
    "        \"CTR_MN_NM\",\n",
    "        \"CTR_MN_ISO\",\n",
    "        \"geometry\",\n",
    "    ],\n",
    "].copy()"
   ]
  },
  {
   "cell_type": "markdown",
   "id": "front-poker",
   "metadata": {},
   "source": [
    "Population greater than 200,000"
   ]
  },
  {
   "cell_type": "code",
   "execution_count": 65,
   "id": "quiet-partition",
   "metadata": {
    "scrolled": true
   },
   "outputs": [],
   "source": [
    "ghs_filter = ghs.loc[ghs.P15 > 200000].copy()"
   ]
  },
  {
   "cell_type": "code",
   "execution_count": 77,
   "id": "level-audit",
   "metadata": {},
   "outputs": [],
   "source": [
    "ghs_filter.reset_index(drop=True, inplace=True)"
   ]
  },
  {
   "cell_type": "code",
   "execution_count": 5,
   "id": "suspended-investigator",
   "metadata": {},
   "outputs": [],
   "source": [
    "output_dir = r\"X:\\data\\ghs\""
   ]
  },
  {
   "cell_type": "code",
   "execution_count": 78,
   "id": "professional-landscape",
   "metadata": {},
   "outputs": [],
   "source": [
    "ghs_filter.to_file(os.path.join(output_dir, \"ghs_gt_200000.geojson\"), driver=\"GeoJSON\")"
   ]
  },
  {
   "cell_type": "code",
   "execution_count": 6,
   "id": "unexpected-relief",
   "metadata": {},
   "outputs": [],
   "source": [
    "ghs_filter = gpd.read_file(os.path.join(output_dir, \"ghs_gt_200000.geojson\"))"
   ]
  },
  {
   "cell_type": "code",
   "execution_count": 7,
   "id": "orange-mayor",
   "metadata": {},
   "outputs": [
    {
     "data": {
      "text/plain": [
       "2908"
      ]
     },
     "execution_count": 7,
     "metadata": {},
     "output_type": "execute_result"
    }
   ],
   "source": [
    "len(ghs_filter)"
   ]
  },
  {
   "cell_type": "markdown",
   "id": "personalized-russia",
   "metadata": {},
   "source": [
    "The zonal stats crashed when trying to run for all features:  \n",
    "**EEException: Request payload size exceeds the limit: 10485760 bytes.**  "
   ]
  },
  {
   "cell_type": "markdown",
   "id": "enclosed-assistant",
   "metadata": {},
   "source": [
    "gpd_to_gee is not preserving ID attributes, something to investigate... using the geemap function here"
   ]
  },
  {
   "cell_type": "code",
   "execution_count": 107,
   "id": "cloudy-indicator",
   "metadata": {},
   "outputs": [],
   "source": [
    "# ghs_ee = geemap.geojson_to_ee(os.path.join(output_dir, \"ghs_gt_200000.geojson\"))"
   ]
  },
  {
   "cell_type": "code",
   "execution_count": 74,
   "id": "wooden-southwest",
   "metadata": {
    "scrolled": true
   },
   "outputs": [
    {
     "ename": "EEException",
     "evalue": "Request payload size exceeds the limit: 10485760 bytes.",
     "output_type": "error",
     "traceback": [
      "\u001b[1;31m---------------------------------------------------------------------------\u001b[0m",
      "\u001b[1;31mHttpError\u001b[0m                                 Traceback (most recent call last)",
      "\u001b[1;32mC:\\WBG\\Anaconda\\envs\\ee\\lib\\site-packages\\ee\\data.py\u001b[0m in \u001b[0;36m_execute_cloud_call\u001b[1;34m(call, num_retries)\u001b[0m\n\u001b[0;32m    333\u001b[0m   \u001b[1;32mtry\u001b[0m\u001b[1;33m:\u001b[0m\u001b[1;33m\u001b[0m\u001b[1;33m\u001b[0m\u001b[0m\n\u001b[1;32m--> 334\u001b[1;33m     \u001b[1;32mreturn\u001b[0m \u001b[0mcall\u001b[0m\u001b[1;33m.\u001b[0m\u001b[0mexecute\u001b[0m\u001b[1;33m(\u001b[0m\u001b[0mnum_retries\u001b[0m\u001b[1;33m=\u001b[0m\u001b[0mnum_retries\u001b[0m\u001b[1;33m)\u001b[0m\u001b[1;33m\u001b[0m\u001b[1;33m\u001b[0m\u001b[0m\n\u001b[0m\u001b[0;32m    335\u001b[0m   \u001b[1;32mexcept\u001b[0m \u001b[0mgoogleapiclient\u001b[0m\u001b[1;33m.\u001b[0m\u001b[0merrors\u001b[0m\u001b[1;33m.\u001b[0m\u001b[0mHttpError\u001b[0m \u001b[1;32mas\u001b[0m \u001b[0me\u001b[0m\u001b[1;33m:\u001b[0m\u001b[1;33m\u001b[0m\u001b[1;33m\u001b[0m\u001b[0m\n",
      "\u001b[1;32mC:\\WBG\\Anaconda\\envs\\ee\\lib\\site-packages\\googleapiclient\\_helpers.py\u001b[0m in \u001b[0;36mpositional_wrapper\u001b[1;34m(*args, **kwargs)\u001b[0m\n\u001b[0;32m    133\u001b[0m                     \u001b[0mlogger\u001b[0m\u001b[1;33m.\u001b[0m\u001b[0mwarning\u001b[0m\u001b[1;33m(\u001b[0m\u001b[0mmessage\u001b[0m\u001b[1;33m)\u001b[0m\u001b[1;33m\u001b[0m\u001b[1;33m\u001b[0m\u001b[0m\n\u001b[1;32m--> 134\u001b[1;33m             \u001b[1;32mreturn\u001b[0m \u001b[0mwrapped\u001b[0m\u001b[1;33m(\u001b[0m\u001b[1;33m*\u001b[0m\u001b[0margs\u001b[0m\u001b[1;33m,\u001b[0m \u001b[1;33m**\u001b[0m\u001b[0mkwargs\u001b[0m\u001b[1;33m)\u001b[0m\u001b[1;33m\u001b[0m\u001b[1;33m\u001b[0m\u001b[0m\n\u001b[0m\u001b[0;32m    135\u001b[0m \u001b[1;33m\u001b[0m\u001b[0m\n",
      "\u001b[1;32mC:\\WBG\\Anaconda\\envs\\ee\\lib\\site-packages\\googleapiclient\\http.py\u001b[0m in \u001b[0;36mexecute\u001b[1;34m(self, http, num_retries)\u001b[0m\n\u001b[0;32m    914\u001b[0m         \u001b[1;32mif\u001b[0m \u001b[0mresp\u001b[0m\u001b[1;33m.\u001b[0m\u001b[0mstatus\u001b[0m \u001b[1;33m>=\u001b[0m \u001b[1;36m300\u001b[0m\u001b[1;33m:\u001b[0m\u001b[1;33m\u001b[0m\u001b[1;33m\u001b[0m\u001b[0m\n\u001b[1;32m--> 915\u001b[1;33m             \u001b[1;32mraise\u001b[0m \u001b[0mHttpError\u001b[0m\u001b[1;33m(\u001b[0m\u001b[0mresp\u001b[0m\u001b[1;33m,\u001b[0m \u001b[0mcontent\u001b[0m\u001b[1;33m,\u001b[0m \u001b[0muri\u001b[0m\u001b[1;33m=\u001b[0m\u001b[0mself\u001b[0m\u001b[1;33m.\u001b[0m\u001b[0muri\u001b[0m\u001b[1;33m)\u001b[0m\u001b[1;33m\u001b[0m\u001b[1;33m\u001b[0m\u001b[0m\n\u001b[0m\u001b[0;32m    916\u001b[0m         \u001b[1;32mreturn\u001b[0m \u001b[0mself\u001b[0m\u001b[1;33m.\u001b[0m\u001b[0mpostproc\u001b[0m\u001b[1;33m(\u001b[0m\u001b[0mresp\u001b[0m\u001b[1;33m,\u001b[0m \u001b[0mcontent\u001b[0m\u001b[1;33m)\u001b[0m\u001b[1;33m\u001b[0m\u001b[1;33m\u001b[0m\u001b[0m\n",
      "\u001b[1;31mHttpError\u001b[0m: <HttpError 400 when requesting https://earthengine.googleapis.com/v1alpha/projects/earthengine-legacy/table:export?alt=json returned \"Request payload size exceeds the limit: 10485760 bytes.\". Details: \"Request payload size exceeds the limit: 10485760 bytes.\">",
      "\nDuring handling of the above exception, another exception occurred:\n",
      "\u001b[1;31mEEException\u001b[0m                               Traceback (most recent call last)",
      "\u001b[1;32m<ipython-input-74-fb191735a2a0>\u001b[0m in \u001b[0;36m<module>\u001b[1;34m\u001b[0m\n\u001b[0;32m      9\u001b[0m     \u001b[0moutput_name\u001b[0m \u001b[1;33m=\u001b[0m \u001b[1;34m'ghs_ntl'\u001b[0m\u001b[1;33m\u001b[0m\u001b[1;33m\u001b[0m\u001b[0m\n\u001b[0;32m     10\u001b[0m )\n\u001b[1;32m---> 11\u001b[1;33m \u001b[0mres\u001b[0m \u001b[1;33m=\u001b[0m \u001b[0mzs\u001b[0m\u001b[1;33m.\u001b[0m\u001b[0mrunZonalStats\u001b[0m\u001b[1;33m(\u001b[0m\u001b[1;33m)\u001b[0m\u001b[1;33m\u001b[0m\u001b[1;33m\u001b[0m\u001b[0m\n\u001b[0m",
      "\u001b[1;32m~\\Repos\\GEE_Zonal\\src\\gee_tools.py\u001b[0m in \u001b[0;36mrunZonalStats\u001b[1;34m(self)\u001b[0m\n\u001b[0;32m    301\u001b[0m                 \u001b[0mfileNamePrefix\u001b[0m \u001b[1;33m=\u001b[0m \u001b[0mself\u001b[0m\u001b[1;33m.\u001b[0m\u001b[0moutput_name\u001b[0m\u001b[1;33m,\u001b[0m\u001b[1;33m\u001b[0m\u001b[1;33m\u001b[0m\u001b[0m\n\u001b[0;32m    302\u001b[0m             )\n\u001b[1;32m--> 303\u001b[1;33m             \u001b[0mself\u001b[0m\u001b[1;33m.\u001b[0m\u001b[0mtask\u001b[0m\u001b[1;33m.\u001b[0m\u001b[0mstart\u001b[0m\u001b[1;33m(\u001b[0m\u001b[1;33m)\u001b[0m\u001b[1;33m\u001b[0m\u001b[1;33m\u001b[0m\u001b[0m\n\u001b[0m\u001b[0;32m    304\u001b[0m         \u001b[1;32melse\u001b[0m\u001b[1;33m:\u001b[0m\u001b[1;33m\u001b[0m\u001b[1;33m\u001b[0m\u001b[0m\n\u001b[0;32m    305\u001b[0m             \u001b[1;32mreturn\u001b[0m\u001b[1;33m(\u001b[0m\u001b[0mzs\u001b[0m\u001b[1;33m)\u001b[0m\u001b[1;33m\u001b[0m\u001b[1;33m\u001b[0m\u001b[0m\n",
      "\u001b[1;32mC:\\WBG\\Anaconda\\envs\\ee\\lib\\site-packages\\ee\\batch.py\u001b[0m in \u001b[0;36mstart\u001b[1;34m(self)\u001b[0m\n\u001b[0;32m     85\u001b[0m       \u001b[0mresult\u001b[0m \u001b[1;33m=\u001b[0m \u001b[0mdata\u001b[0m\u001b[1;33m.\u001b[0m\u001b[0mexportMap\u001b[0m\u001b[1;33m(\u001b[0m\u001b[0mself\u001b[0m\u001b[1;33m.\u001b[0m\u001b[0m_request_id\u001b[0m\u001b[1;33m,\u001b[0m \u001b[0mself\u001b[0m\u001b[1;33m.\u001b[0m\u001b[0mconfig\u001b[0m\u001b[1;33m)\u001b[0m\u001b[1;33m\u001b[0m\u001b[1;33m\u001b[0m\u001b[0m\n\u001b[0;32m     86\u001b[0m     \u001b[1;32melif\u001b[0m \u001b[0mself\u001b[0m\u001b[1;33m.\u001b[0m\u001b[0mtask_type\u001b[0m \u001b[1;33m==\u001b[0m \u001b[0mTask\u001b[0m\u001b[1;33m.\u001b[0m\u001b[0mType\u001b[0m\u001b[1;33m.\u001b[0m\u001b[0mEXPORT_TABLE\u001b[0m\u001b[1;33m:\u001b[0m\u001b[1;33m\u001b[0m\u001b[1;33m\u001b[0m\u001b[0m\n\u001b[1;32m---> 87\u001b[1;33m       \u001b[0mresult\u001b[0m \u001b[1;33m=\u001b[0m \u001b[0mdata\u001b[0m\u001b[1;33m.\u001b[0m\u001b[0mexportTable\u001b[0m\u001b[1;33m(\u001b[0m\u001b[0mself\u001b[0m\u001b[1;33m.\u001b[0m\u001b[0m_request_id\u001b[0m\u001b[1;33m,\u001b[0m \u001b[0mself\u001b[0m\u001b[1;33m.\u001b[0m\u001b[0mconfig\u001b[0m\u001b[1;33m)\u001b[0m\u001b[1;33m\u001b[0m\u001b[1;33m\u001b[0m\u001b[0m\n\u001b[0m\u001b[0;32m     88\u001b[0m     \u001b[1;32melif\u001b[0m \u001b[0mself\u001b[0m\u001b[1;33m.\u001b[0m\u001b[0mtask_type\u001b[0m \u001b[1;33m==\u001b[0m \u001b[0mTask\u001b[0m\u001b[1;33m.\u001b[0m\u001b[0mType\u001b[0m\u001b[1;33m.\u001b[0m\u001b[0mEXPORT_VIDEO\u001b[0m\u001b[1;33m:\u001b[0m\u001b[1;33m\u001b[0m\u001b[1;33m\u001b[0m\u001b[0m\n\u001b[0;32m     89\u001b[0m       \u001b[0mresult\u001b[0m \u001b[1;33m=\u001b[0m \u001b[0mdata\u001b[0m\u001b[1;33m.\u001b[0m\u001b[0mexportVideo\u001b[0m\u001b[1;33m(\u001b[0m\u001b[0mself\u001b[0m\u001b[1;33m.\u001b[0m\u001b[0m_request_id\u001b[0m\u001b[1;33m,\u001b[0m \u001b[0mself\u001b[0m\u001b[1;33m.\u001b[0m\u001b[0mconfig\u001b[0m\u001b[1;33m)\u001b[0m\u001b[1;33m\u001b[0m\u001b[1;33m\u001b[0m\u001b[0m\n",
      "\u001b[1;32mC:\\WBG\\Anaconda\\envs\\ee\\lib\\site-packages\\ee\\data.py\u001b[0m in \u001b[0;36mexportTable\u001b[1;34m(request_id, params)\u001b[0m\n\u001b[0;32m   1240\u001b[0m   \"\"\"\n\u001b[0;32m   1241\u001b[0m   \u001b[0mparams\u001b[0m \u001b[1;33m=\u001b[0m \u001b[0mparams\u001b[0m\u001b[1;33m.\u001b[0m\u001b[0mcopy\u001b[0m\u001b[1;33m(\u001b[0m\u001b[1;33m)\u001b[0m\u001b[1;33m\u001b[0m\u001b[1;33m\u001b[0m\u001b[0m\n\u001b[1;32m-> 1242\u001b[1;33m   return _prepare_and_run_export(\n\u001b[0m\u001b[0;32m   1243\u001b[0m       \u001b[0mrequest_id\u001b[0m\u001b[1;33m,\u001b[0m \u001b[0mparams\u001b[0m\u001b[1;33m,\u001b[0m\u001b[1;33m\u001b[0m\u001b[1;33m\u001b[0m\u001b[0m\n\u001b[0;32m   1244\u001b[0m       _get_cloud_api_resource().projects().table().export)\n",
      "\u001b[1;32mC:\\WBG\\Anaconda\\envs\\ee\\lib\\site-packages\\ee\\data.py\u001b[0m in \u001b[0;36m_prepare_and_run_export\u001b[1;34m(request_id, params, export_endpoint)\u001b[0m\n\u001b[0;32m   1330\u001b[0m         params['expression'], for_cloud_api=True)\n\u001b[0;32m   1331\u001b[0m   \u001b[0mnum_retries\u001b[0m \u001b[1;33m=\u001b[0m \u001b[0mMAX_RETRIES\u001b[0m \u001b[1;32mif\u001b[0m \u001b[0mrequest_id\u001b[0m \u001b[1;32melse\u001b[0m \u001b[1;36m0\u001b[0m\u001b[1;33m\u001b[0m\u001b[1;33m\u001b[0m\u001b[0m\n\u001b[1;32m-> 1332\u001b[1;33m   return _execute_cloud_call(\n\u001b[0m\u001b[0;32m   1333\u001b[0m       \u001b[0mexport_endpoint\u001b[0m\u001b[1;33m(\u001b[0m\u001b[0mproject\u001b[0m\u001b[1;33m=\u001b[0m\u001b[0m_get_projects_path\u001b[0m\u001b[1;33m(\u001b[0m\u001b[1;33m)\u001b[0m\u001b[1;33m,\u001b[0m \u001b[0mbody\u001b[0m\u001b[1;33m=\u001b[0m\u001b[0mparams\u001b[0m\u001b[1;33m)\u001b[0m\u001b[1;33m,\u001b[0m\u001b[1;33m\u001b[0m\u001b[1;33m\u001b[0m\u001b[0m\n\u001b[0;32m   1334\u001b[0m       num_retries=num_retries)\n",
      "\u001b[1;32mC:\\WBG\\Anaconda\\envs\\ee\\lib\\site-packages\\ee\\data.py\u001b[0m in \u001b[0;36m_execute_cloud_call\u001b[1;34m(call, num_retries)\u001b[0m\n\u001b[0;32m    334\u001b[0m     \u001b[1;32mreturn\u001b[0m \u001b[0mcall\u001b[0m\u001b[1;33m.\u001b[0m\u001b[0mexecute\u001b[0m\u001b[1;33m(\u001b[0m\u001b[0mnum_retries\u001b[0m\u001b[1;33m=\u001b[0m\u001b[0mnum_retries\u001b[0m\u001b[1;33m)\u001b[0m\u001b[1;33m\u001b[0m\u001b[1;33m\u001b[0m\u001b[0m\n\u001b[0;32m    335\u001b[0m   \u001b[1;32mexcept\u001b[0m \u001b[0mgoogleapiclient\u001b[0m\u001b[1;33m.\u001b[0m\u001b[0merrors\u001b[0m\u001b[1;33m.\u001b[0m\u001b[0mHttpError\u001b[0m \u001b[1;32mas\u001b[0m \u001b[0me\u001b[0m\u001b[1;33m:\u001b[0m\u001b[1;33m\u001b[0m\u001b[1;33m\u001b[0m\u001b[0m\n\u001b[1;32m--> 336\u001b[1;33m     \u001b[1;32mraise\u001b[0m \u001b[0m_translate_cloud_exception\u001b[0m\u001b[1;33m(\u001b[0m\u001b[0me\u001b[0m\u001b[1;33m)\u001b[0m\u001b[1;33m\u001b[0m\u001b[1;33m\u001b[0m\u001b[0m\n\u001b[0m\u001b[0;32m    337\u001b[0m \u001b[1;33m\u001b[0m\u001b[0m\n\u001b[0;32m    338\u001b[0m \u001b[1;33m\u001b[0m\u001b[0m\n",
      "\u001b[1;31mEEException\u001b[0m: Request payload size exceeds the limit: 10485760 bytes."
     ]
    }
   ],
   "source": [
    "# zs = ZonalStats(\n",
    "#     collection_id = 'NOAA/VIIRS/DNB/MONTHLY_V1/VCMCFG',\n",
    "#     target_features = ghs_ee,\n",
    "#     statistic_type = 'sum',\n",
    "#     scale = 500,\n",
    "#     frequency = 'original',\n",
    "#     band = 'avg_rad',\n",
    "#     output_dir = 'ghs',\n",
    "#     output_name = 'ghs_ntl'\n",
    "# )\n",
    "# res = zs.runZonalStats()"
   ]
  },
  {
   "cell_type": "markdown",
   "id": "modular-ministry",
   "metadata": {},
   "source": [
    "Instead, we will split GHS into several batches with 1,000 features"
   ]
  },
  {
   "cell_type": "code",
   "execution_count": 18,
   "id": "metric-folder",
   "metadata": {},
   "outputs": [],
   "source": [
    "for batch_number, i in enumerate(range(0, len(ghs_filter), 1000)):\n",
    "    batch = ghs_filter.iloc[i : i + 1000].copy()\n",
    "    batch.to_file(\n",
    "        os.path.join(output_dir, \"batches\", f\"batch_{batch_number}.geojson\"),\n",
    "        driver=\"GeoJSON\",\n",
    "    )"
   ]
  },
  {
   "cell_type": "code",
   "execution_count": 19,
   "id": "major-actor",
   "metadata": {},
   "outputs": [],
   "source": [
    "results = []\n",
    "for batch_number, i in enumerate(range(0, len(ghs_filter), 1000)):\n",
    "    ghs_batch = os.path.join(output_dir, \"batches\", f\"batch_{batch_number}.geojson\")\n",
    "    ghs_ee = geemap.geojson_to_ee(ghs_batch)\n",
    "    zs = ZonalStats(\n",
    "        collection_id=\"NOAA/VIIRS/DNB/MONTHLY_V1/VCMCFG\",\n",
    "        target_features=ghs_ee,\n",
    "        statistic_type=\"sum\",\n",
    "        scale=500,\n",
    "        frequency=\"original\",\n",
    "        band=\"avg_rad\",\n",
    "        output_dir=\"ghs\",\n",
    "        output_name=f\"ntl_batch_{batch_number}\",\n",
    "        min_threshold=0,\n",
    "    )\n",
    "    res = zs.runZonalStats()\n",
    "    results.append(zs)"
   ]
  },
  {
   "cell_type": "code",
   "execution_count": 24,
   "id": "composite-armenia",
   "metadata": {},
   "outputs": [
    {
     "name": "stdout",
     "output_type": "stream",
     "text": [
      "Completed\n",
      "Runtime: 0 minutes and 51 seconds\n",
      "Completed\n",
      "Runtime: 0 minutes and 33 seconds\n",
      "Completed\n",
      "Runtime: 0 minutes and 28 seconds\n"
     ]
    }
   ],
   "source": [
    "for zs in results:\n",
    "    zs.reportRunTime()"
   ]
  },
  {
   "cell_type": "code",
   "execution_count": 21,
   "id": "underlying-passport",
   "metadata": {},
   "outputs": [],
   "source": [
    "coverage = ee.ImageCollection(\"NOAA/VIIRS/DNB/MONTHLY_V1/VCMCFG\").select(\"cf_cvg\")"
   ]
  },
  {
   "cell_type": "code",
   "execution_count": 22,
   "id": "pursuant-schema",
   "metadata": {},
   "outputs": [],
   "source": [
    "def getGT0(image):\n",
    "    return image.gt(0)  # .multiply(ee.Image.pixelArea())\n",
    "\n",
    "\n",
    "def getGT1(image):\n",
    "    return image.gt(1)  # .multiply(ee.Image.pixelArea())\n",
    "\n",
    "\n",
    "def getGTE0(image):\n",
    "    return image.gte(0)  # .multiply(ee.Image.pixelArea())\n",
    "\n",
    "\n",
    "def setArea(feature):\n",
    "    return feature.set(\"area_sqm\", feature.area())"
   ]
  },
  {
   "cell_type": "code",
   "execution_count": 25,
   "id": "involved-president",
   "metadata": {},
   "outputs": [],
   "source": [
    "coverage_gt0 = coverage.map(getGT0)"
   ]
  },
  {
   "cell_type": "code",
   "execution_count": 26,
   "id": "perfect-hypothetical",
   "metadata": {},
   "outputs": [],
   "source": [
    "coverage_gt1 = coverage.map(getGT1)"
   ]
  },
  {
   "cell_type": "code",
   "execution_count": 27,
   "id": "equivalent-wages",
   "metadata": {},
   "outputs": [],
   "source": [
    "coverage_gte0 = coverage.map(getGTE0)"
   ]
  },
  {
   "cell_type": "code",
   "execution_count": 28,
   "id": "above-emergency",
   "metadata": {},
   "outputs": [],
   "source": [
    "results_gt0 = []\n",
    "for batch_number, i in enumerate(range(0, len(ghs_filter), 1000)):\n",
    "    ghs_batch = os.path.join(output_dir, \"batches\", f\"batch_{batch_number}.geojson\")\n",
    "    ghs_ee = geemap.geojson_to_ee(ghs_batch)\n",
    "    ghs_ee = ghs_ee.map(setArea)\n",
    "    zs = ZonalStats(\n",
    "        collection_id=\"NOAA/VIIRS/DNB/MONTHLY_V1/VCMCFG\",\n",
    "        target_features=ghs_ee,\n",
    "        statistic_type=\"sum\",\n",
    "        scale=500,\n",
    "        frequency=\"original\",\n",
    "        output_dir=\"ghs\",\n",
    "        output_name=f\"gt0_batch_{batch_number}\",\n",
    "        ee_dataset=coverage_gt0,\n",
    "    )\n",
    "    res = zs.runZonalStats()\n",
    "    results_gt0.append(zs)"
   ]
  },
  {
   "cell_type": "code",
   "execution_count": 29,
   "id": "timely-garden",
   "metadata": {},
   "outputs": [
    {
     "name": "stdout",
     "output_type": "stream",
     "text": [
      "Status is Ready, hasn't started\n",
      "Status is Ready, hasn't started\n",
      "Status is Ready, hasn't started\n"
     ]
    }
   ],
   "source": [
    "for zs in results_gt0:\n",
    "    zs.reportRunTime()"
   ]
  },
  {
   "cell_type": "code",
   "execution_count": 30,
   "id": "artistic-walker",
   "metadata": {},
   "outputs": [],
   "source": [
    "results_gt1 = []\n",
    "for batch_number, i in enumerate(range(0, len(ghs_filter), 1000)):\n",
    "    ghs_batch = os.path.join(output_dir, \"batches\", f\"batch_{batch_number}.geojson\")\n",
    "    ghs_ee = geemap.geojson_to_ee(ghs_batch)\n",
    "    ghs_ee = ghs_ee.map(setArea)\n",
    "    zs = ZonalStats(\n",
    "        collection_id=\"NOAA/VIIRS/DNB/MONTHLY_V1/VCMCFG\",\n",
    "        target_features=ghs_ee,\n",
    "        statistic_type=\"sum\",\n",
    "        scale=500,\n",
    "        frequency=\"original\",\n",
    "        output_dir=\"ghs\",\n",
    "        output_name=f\"gt1_batch_{batch_number}\",\n",
    "        ee_dataset=coverage_gt1,\n",
    "    )\n",
    "    res = zs.runZonalStats()\n",
    "    results_gt1.append(zs)"
   ]
  },
  {
   "cell_type": "code",
   "execution_count": 31,
   "id": "forward-keyboard",
   "metadata": {},
   "outputs": [
    {
     "name": "stdout",
     "output_type": "stream",
     "text": [
      "Status is Ready, hasn't started\n",
      "Status is Ready, hasn't started\n",
      "Status is Ready, hasn't started\n"
     ]
    }
   ],
   "source": [
    "for zs in results_gt1:\n",
    "    zs.reportRunTime()"
   ]
  },
  {
   "cell_type": "code",
   "execution_count": 32,
   "id": "purple-portugal",
   "metadata": {},
   "outputs": [],
   "source": [
    "results_gte0 = []\n",
    "for batch_number, i in enumerate(range(0, len(ghs_filter), 1000)):\n",
    "    ghs_batch = os.path.join(output_dir, \"batches\", f\"batch_{batch_number}.geojson\")\n",
    "    ghs_ee = geemap.geojson_to_ee(ghs_batch)\n",
    "    ghs_ee = ghs_ee.map(setArea)\n",
    "    zs = ZonalStats(\n",
    "        collection_id=\"NOAA/VIIRS/DNB/MONTHLY_V1/VCMCFG\",\n",
    "        target_features=ghs_ee,\n",
    "        statistic_type=\"sum\",\n",
    "        scale=500,\n",
    "        frequency=\"original\",\n",
    "        output_dir=\"ghs\",\n",
    "        output_name=f\"gte0_batch_{batch_number}\",\n",
    "        ee_dataset=coverage_gte0,\n",
    "    )\n",
    "    res = zs.runZonalStats()\n",
    "    results_gte0.append(zs)"
   ]
  },
  {
   "cell_type": "markdown",
   "id": "diverse-institution",
   "metadata": {},
   "source": [
    "### Collect Results\n",
    "Downloaded results from google drive, and created three folders: ntl, gt0, gt1"
   ]
  },
  {
   "cell_type": "code",
   "execution_count": 6,
   "id": "animal-coast",
   "metadata": {},
   "outputs": [],
   "source": [
    "ntl_dir = os.path.join(output_dir, \"ntl\")\n",
    "cov_gt0_dir = os.path.join(output_dir, \"cov_gt0\")\n",
    "cov_gte0_dir = os.path.join(output_dir, \"cov_gte0\")\n",
    "cov_gt1_dir = os.path.join(output_dir, \"cov_gt1\")"
   ]
  },
  {
   "cell_type": "code",
   "execution_count": 25,
   "id": "renewable-bulgaria",
   "metadata": {},
   "outputs": [],
   "source": [
    "ntl_dfs = [pd.read_csv(os.path.join(ntl_dir, file)) for file in os.listdir(ntl_dir)]"
   ]
  },
  {
   "cell_type": "code",
   "execution_count": 26,
   "id": "confidential-poland",
   "metadata": {},
   "outputs": [],
   "source": [
    "ntl_df = pd.concat(ntl_dfs)"
   ]
  },
  {
   "cell_type": "code",
   "execution_count": 27,
   "id": "checked-rogers",
   "metadata": {},
   "outputs": [],
   "source": [
    "ntl_df.drop([\"system:index\", \".geo\"], axis=1, inplace=True)"
   ]
  },
  {
   "cell_type": "code",
   "execution_count": 12,
   "id": "infrared-bobby",
   "metadata": {},
   "outputs": [],
   "source": [
    "ntl_df.reset_index(drop=True, inplace=True)"
   ]
  },
  {
   "cell_type": "code",
   "execution_count": 13,
   "id": "comparative-midnight",
   "metadata": {},
   "outputs": [],
   "source": [
    "ntl_df.set_index(\"ID_HDC_G0\", inplace=True)"
   ]
  },
  {
   "cell_type": "code",
   "execution_count": 21,
   "id": "greatest-sellers",
   "metadata": {},
   "outputs": [],
   "source": [
    "ntl_df_final = ntl_df.loc[\n",
    "    :, list(ntl_df.columns[-8:]) + list(ntl_df.columns[:-8])\n",
    "].copy()"
   ]
  },
  {
   "cell_type": "code",
   "execution_count": 22,
   "id": "metallic-spell",
   "metadata": {},
   "outputs": [],
   "source": [
    "def renameFunc(col):\n",
    "    if \"rad\" in col:\n",
    "        return \"Month-\" + col[4:6] + \"-\" + col[:4]\n",
    "    else:\n",
    "        return col"
   ]
  },
  {
   "cell_type": "code",
   "execution_count": 23,
   "id": "banned-crack",
   "metadata": {},
   "outputs": [],
   "source": [
    "ntl_df_final.rename(renameFunc, axis=1, inplace=True)"
   ]
  },
  {
   "cell_type": "code",
   "execution_count": 24,
   "id": "working-population",
   "metadata": {},
   "outputs": [],
   "source": [
    "ntl_df_final.to_csv(os.path.join(output_dir, \"ntl2.csv\"))"
   ]
  },
  {
   "cell_type": "code",
   "execution_count": 42,
   "id": "attractive-bahrain",
   "metadata": {},
   "outputs": [],
   "source": [
    "cov_gt0_dfs = [\n",
    "    pd.read_csv(os.path.join(cov_gt0_dir, file)) for file in os.listdir(cov_gt0_dir)\n",
    "]"
   ]
  },
  {
   "cell_type": "code",
   "execution_count": 43,
   "id": "parallel-parking",
   "metadata": {},
   "outputs": [],
   "source": [
    "cov_gt0_df = pd.concat(cov_gt0_dfs)"
   ]
  },
  {
   "cell_type": "code",
   "execution_count": 44,
   "id": "burning-deployment",
   "metadata": {},
   "outputs": [],
   "source": [
    "cov_gt0_df.drop([\"system:index\", \".geo\"], axis=1, inplace=True)"
   ]
  },
  {
   "cell_type": "code",
   "execution_count": 45,
   "id": "civil-equation",
   "metadata": {},
   "outputs": [],
   "source": [
    "cov_gt0_df.reset_index(drop=True, inplace=True)"
   ]
  },
  {
   "cell_type": "code",
   "execution_count": null,
   "id": "employed-director",
   "metadata": {},
   "outputs": [],
   "source": [
    "cov_gt0_df.set_index(\"ID_HDC_G0\", inplace=True)"
   ]
  },
  {
   "cell_type": "code",
   "execution_count": 47,
   "id": "stunning-luxury",
   "metadata": {},
   "outputs": [],
   "source": [
    "cov_gte0_dfs = [\n",
    "    pd.read_csv(os.path.join(cov_gte0_dir, file)) for file in os.listdir(cov_gte0_dir)\n",
    "]\n",
    "cov_gte0_df = pd.concat(cov_gte0_dfs)\n",
    "cov_gte0_df.drop([\"system:index\", \".geo\"], axis=1, inplace=True)\n",
    "cov_gte0_df.reset_index(drop=True, inplace=True)"
   ]
  },
  {
   "cell_type": "code",
   "execution_count": 59,
   "id": "cheap-range",
   "metadata": {},
   "outputs": [],
   "source": [
    "cov_gte0_df.set_index(\"ID_HDC_G0\", inplace=True)"
   ]
  },
  {
   "cell_type": "code",
   "execution_count": 60,
   "id": "third-haiti",
   "metadata": {},
   "outputs": [],
   "source": [
    "coverage_gte0 = cov_gte0_df.loc[:, [\"cvg\" in col for col in cov_gte0_df.columns]].copy()"
   ]
  },
  {
   "cell_type": "code",
   "execution_count": 116,
   "id": "sought-inspector",
   "metadata": {},
   "outputs": [],
   "source": [
    "coverage_gt0 = cov_gt0_df.loc[:, [\"cvg\" in col for col in cov_gt0_df.columns]].copy()"
   ]
  },
  {
   "cell_type": "code",
   "execution_count": 117,
   "id": "swiss-hayes",
   "metadata": {},
   "outputs": [],
   "source": [
    "coverage_gt0 = coverage_gt0.divide(coverage_gte0) * 100"
   ]
  },
  {
   "cell_type": "code",
   "execution_count": 119,
   "id": "composite-leather",
   "metadata": {},
   "outputs": [],
   "source": [
    "def renameFunc(col):\n",
    "    return \"Month-\" + col[4:6] + \"-\" + col[:4]"
   ]
  },
  {
   "cell_type": "code",
   "execution_count": 120,
   "id": "friendly-avenue",
   "metadata": {},
   "outputs": [],
   "source": [
    "coverage_gt0.rename(renameFunc, axis=1, inplace=True)"
   ]
  },
  {
   "cell_type": "code",
   "execution_count": 67,
   "id": "arbitrary-lingerie",
   "metadata": {},
   "outputs": [],
   "source": [
    "cov_gt1_dfs = [\n",
    "    pd.read_csv(os.path.join(cov_gt1_dir, file)) for file in os.listdir(cov_gt1_dir)\n",
    "]\n",
    "cov_gt1_df = pd.concat(cov_gt1_dfs)\n",
    "cov_gt1_df.drop([\"system:index\", \".geo\"], axis=1, inplace=True)\n",
    "cov_gt1_df.reset_index(drop=True, inplace=True)"
   ]
  },
  {
   "cell_type": "code",
   "execution_count": 68,
   "id": "rough-mystery",
   "metadata": {},
   "outputs": [],
   "source": [
    "cov_gt1_df.set_index(\"ID_HDC_G0\", inplace=True)"
   ]
  },
  {
   "cell_type": "code",
   "execution_count": 122,
   "id": "global-detective",
   "metadata": {},
   "outputs": [],
   "source": [
    "coverage_gt1 = cov_gt1_df.loc[:, [\"cvg\" in col for col in cov_gt1_df.columns]].copy()"
   ]
  },
  {
   "cell_type": "code",
   "execution_count": 123,
   "id": "colonial-thriller",
   "metadata": {},
   "outputs": [],
   "source": [
    "coverage_gt1 = coverage_gt1.divide(coverage_gte0) * 100"
   ]
  },
  {
   "cell_type": "code",
   "execution_count": 124,
   "id": "practical-wednesday",
   "metadata": {},
   "outputs": [],
   "source": [
    "coverage_gt1.rename(renameFunc, axis=1, inplace=True)"
   ]
  },
  {
   "cell_type": "code",
   "execution_count": 73,
   "id": "altered-canada",
   "metadata": {},
   "outputs": [],
   "source": [
    "attributes = cov_gt0_df.loc[:, [\"cvg\" not in col for col in cov_gt0_df.columns]].copy()"
   ]
  },
  {
   "cell_type": "code",
   "execution_count": 76,
   "id": "incorporated-crash",
   "metadata": {},
   "outputs": [],
   "source": [
    "attributes.drop(\"AREA\", axis=1, inplace=True)"
   ]
  },
  {
   "cell_type": "code",
   "execution_count": 78,
   "id": "working-michael",
   "metadata": {},
   "outputs": [],
   "source": [
    "attributes.loc[:, \"area_sqkm\"] = attributes[\"area_sqm\"] / 1000000"
   ]
  },
  {
   "cell_type": "code",
   "execution_count": 85,
   "id": "contemporary-pierce",
   "metadata": {},
   "outputs": [
    {
     "data": {
      "text/plain": [
       "1    2785\n",
       "2     109\n",
       "0      14\n",
       "Name: QA2_1V, dtype: int64"
      ]
     },
     "execution_count": 85,
     "metadata": {},
     "output_type": "execute_result"
    }
   ],
   "source": [
    "attributes.QA2_1V.value_counts()"
   ]
  },
  {
   "cell_type": "code",
   "execution_count": 125,
   "id": "healthy-employer",
   "metadata": {},
   "outputs": [],
   "source": [
    "coverage_gt0 = attributes.join(coverage_gt0)"
   ]
  },
  {
   "cell_type": "code",
   "execution_count": 126,
   "id": "typical-driver",
   "metadata": {},
   "outputs": [],
   "source": [
    "coverage_gt1 = attributes.join(coverage_gt1)"
   ]
  },
  {
   "cell_type": "code",
   "execution_count": 128,
   "id": "exotic-bradley",
   "metadata": {},
   "outputs": [],
   "source": [
    "coverage_gt0.to_csv(os.path.join(output_dir, \"cov_gt0.csv\"))"
   ]
  },
  {
   "cell_type": "code",
   "execution_count": 129,
   "id": "directed-proxy",
   "metadata": {},
   "outputs": [],
   "source": [
    "coverage_gt1.to_csv(os.path.join(output_dir, \"cov_gt1.csv\"))"
   ]
  }
 ],
 "metadata": {
  "kernelspec": {
   "display_name": "Earth Engine",
   "language": "python",
   "name": "ee"
  },
  "language_info": {
   "codemirror_mode": {
    "name": "ipython",
    "version": 3
   },
   "file_extension": ".py",
   "mimetype": "text/x-python",
   "name": "python",
   "nbconvert_exporter": "python",
   "pygments_lexer": "ipython3",
   "version": "3.9.13"
  },
  "toc": {
   "base_numbering": 1,
   "nav_menu": {},
   "number_sections": true,
   "sideBar": true,
   "skip_h1_title": false,
   "title_cell": "Table of Contents",
   "title_sidebar": "Contents",
   "toc_cell": false,
   "toc_position": {},
   "toc_section_display": true,
   "toc_window_display": false
  },
  "varInspector": {
   "cols": {
    "lenName": 16,
    "lenType": 16,
    "lenVar": 40
   },
   "kernels_config": {
    "python": {
     "delete_cmd_postfix": "",
     "delete_cmd_prefix": "del ",
     "library": "var_list.py",
     "varRefreshCmd": "print(var_dic_list())"
    },
    "r": {
     "delete_cmd_postfix": ") ",
     "delete_cmd_prefix": "rm(",
     "library": "var_list.r",
     "varRefreshCmd": "cat(var_dic_list()) "
    }
   },
   "types_to_exclude": [
    "module",
    "function",
    "builtin_function_or_method",
    "instance",
    "_Feature"
   ],
   "window_display": false
  }
 },
 "nbformat": 4,
 "nbformat_minor": 5
}
