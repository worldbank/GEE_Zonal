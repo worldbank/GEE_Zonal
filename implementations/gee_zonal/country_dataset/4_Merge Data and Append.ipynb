{
 "cells": [
  {
   "cell_type": "markdown",
   "id": "rising-globe",
   "metadata": {},
   "source": [
    "This final notebook shows the process of mergin and appending new data to the existing dataset, in this case new data are values from 2021."
   ]
  },
  {
   "cell_type": "code",
   "execution_count": 1,
   "id": "strange-weekly",
   "metadata": {},
   "outputs": [],
   "source": [
    "import sys\n",
    "\n",
    "sys.path.append(\"../../src\")  # relative path where the library is stored"
   ]
  },
  {
   "cell_type": "code",
   "execution_count": 2,
   "id": "seven-enlargement",
   "metadata": {},
   "outputs": [],
   "source": [
    "import pandas as pd\n",
    "import os"
   ]
  },
  {
   "cell_type": "code",
   "execution_count": 3,
   "id": "developing-location",
   "metadata": {},
   "outputs": [],
   "source": [
    "data_dir = os.path.join(\"X:/data/ee\")\n",
    "out_dir = os.path.join(data_dir, \"output_21\")"
   ]
  },
  {
   "cell_type": "code",
   "execution_count": 4,
   "id": "prerequisite-central",
   "metadata": {},
   "outputs": [],
   "source": [
    "# pd.set_option('display.max_rows', None)"
   ]
  },
  {
   "cell_type": "code",
   "execution_count": 5,
   "id": "ceramic-sense",
   "metadata": {},
   "outputs": [],
   "source": [
    "# pd.set_option('display.max_columns', None)"
   ]
  },
  {
   "cell_type": "code",
   "execution_count": 6,
   "id": "eight-notion",
   "metadata": {},
   "outputs": [],
   "source": [
    "ndvi = pd.read_csv(\n",
    "    os.path.join(out_dir, \"ndvi.csv\"), encoding=\"UTF-8\"\n",
    ")  # index_col=[0,1]\n",
    "ndvi.set_index([\"wb_adm0_na\", \"year\"], inplace=True)\n",
    "ndvi = ndvi.loc[ndvi.landsat_id != \"LT04\"].copy()\n",
    "ndvi.loc[:, \"landsat_id\"] = pd.Categorical(\n",
    "    ndvi[\"landsat_id\"], categories=[\"LE07\", \"LT05\", \"LC08\"], ordered=True\n",
    ")\n",
    "ndvi.sort_values([\"wb_adm0_na\", \"year\", \"landsat_id\"], inplace=True)\n",
    "ndvi.reset_index(inplace=True)\n",
    "ndvi.drop_duplicates([\"wb_adm0_na\", \"year\"], keep=\"first\", inplace=True)\n",
    "ndvi.set_index([\"wb_adm0_na\", \"year\"], inplace=True)\n",
    "ndvi = ndvi.loc[:, ndvi.columns[[\"ndvi\" in col for col in ndvi.columns]]].copy()"
   ]
  },
  {
   "cell_type": "code",
   "execution_count": 7,
   "id": "placed-killer",
   "metadata": {},
   "outputs": [],
   "source": [
    "evi = pd.read_csv(os.path.join(out_dir, \"evi.csv\"), encoding=\"UTF-8\")\n",
    "evi.set_index([\"wb_adm0_na\", \"year\"], inplace=True)\n",
    "evi = evi.loc[evi.landsat_id != \"LT04\"].copy()\n",
    "evi.loc[:, \"landsat_id\"] = pd.Categorical(\n",
    "    evi[\"landsat_id\"], categories=[\"LE07\", \"LT05\", \"LC08\"], ordered=True\n",
    ")\n",
    "evi.sort_values([\"wb_adm0_na\", \"year\", \"landsat_id\"], inplace=True)\n",
    "evi.reset_index(inplace=True)\n",
    "evi.drop_duplicates([\"wb_adm0_na\", \"year\"], keep=\"first\", inplace=True)\n",
    "evi.set_index([\"wb_adm0_na\", \"year\"], inplace=True)\n",
    "evi = evi.loc[:, evi.columns[[\"evi\" in col for col in evi.columns]]].copy()"
   ]
  },
  {
   "cell_type": "code",
   "execution_count": 8,
   "id": "macro-senator",
   "metadata": {},
   "outputs": [],
   "source": [
    "ndsi = pd.read_csv(os.path.join(out_dir, \"ndsi.csv\"), encoding=\"UTF-8\")\n",
    "ndsi.set_index([\"wb_adm0_na\", \"year\"], inplace=True)\n",
    "ndsi = ndsi.loc[ndsi.landsat_id != \"LT04\"].copy()\n",
    "ndsi.loc[:, \"landsat_id\"] = pd.Categorical(\n",
    "    ndsi[\"landsat_id\"], categories=[\"LE07\", \"LT05\", \"LC08\"], ordered=True\n",
    ")\n",
    "ndsi.sort_values([\"wb_adm0_na\", \"year\", \"landsat_id\"], inplace=True)\n",
    "ndsi.reset_index(inplace=True)\n",
    "ndsi.drop_duplicates([\"wb_adm0_na\", \"year\"], keep=\"first\", inplace=True)\n",
    "ndsi.set_index([\"wb_adm0_na\", \"year\"], inplace=True)\n",
    "ndsi = ndsi.loc[:, ndsi.columns[[\"ndsi\" in col for col in ndsi.columns]]].copy()"
   ]
  },
  {
   "cell_type": "code",
   "execution_count": 9,
   "id": "unknown-specific",
   "metadata": {},
   "outputs": [],
   "source": [
    "ndwi = pd.read_csv(os.path.join(out_dir, \"ndwi.csv\"), encoding=\"UTF-8\")\n",
    "ndwi.set_index([\"wb_adm0_na\", \"year\"], inplace=True)\n",
    "ndwi = ndwi.loc[ndwi.landsat_id != \"LT04\"].copy()\n",
    "ndwi.loc[:, \"landsat_id\"] = pd.Categorical(\n",
    "    ndwi[\"landsat_id\"], categories=[\"LE07\", \"LT05\", \"LC08\"], ordered=True\n",
    ")\n",
    "ndwi.sort_values([\"wb_adm0_na\", \"year\", \"landsat_id\"], inplace=True)\n",
    "ndwi.reset_index(inplace=True)\n",
    "ndwi.drop_duplicates([\"wb_adm0_na\", \"year\"], keep=\"first\", inplace=True)\n",
    "ndwi.set_index([\"wb_adm0_na\", \"year\"], inplace=True)\n",
    "ndwi = ndwi.loc[:, ndwi.columns[[\"ndwi\" in col for col in ndwi.columns]]].copy()"
   ]
  },
  {
   "cell_type": "code",
   "execution_count": 10,
   "id": "ahead-brazil",
   "metadata": {},
   "outputs": [],
   "source": [
    "chirps = pd.read_csv(\n",
    "    os.path.join(out_dir, \"chirps.csv\"), encoding=\"UTF-8\"\n",
    ")  # index_col=[0,1]\n",
    "chirps.set_index([\"wb_adm0_na\", \"year\"], inplace=True)\n",
    "chirps.sort_values([\"wb_adm0_na\", \"year\"], inplace=True)\n",
    "chirps = chirps.loc[\n",
    "    :, chirps.columns[[\"precipitation\" in col for col in chirps.columns]]\n",
    "].copy()"
   ]
  },
  {
   "cell_type": "code",
   "execution_count": 11,
   "id": "decreased-statement",
   "metadata": {},
   "outputs": [],
   "source": [
    "lst = pd.read_csv(os.path.join(out_dir, \"temperature.csv\"), encoding=\"UTF-8\")\n",
    "lst.set_index([\"wb_adm0_na\", \"year\"], inplace=True)\n",
    "lst.sort_values([\"wb_adm0_na\", \"year\"], inplace=True)\n",
    "lst = lst.loc[:, lst.columns[[\"temperature\" in col for col in lst.columns]]].copy()"
   ]
  },
  {
   "cell_type": "code",
   "execution_count": 12,
   "id": "prerequisite-scout",
   "metadata": {},
   "outputs": [],
   "source": [
    "full_21 = (\n",
    "    ndvi.join(evi, how=\"outer\")\n",
    "    .join(ndsi, how=\"outer\")\n",
    "    .join(ndwi, how=\"outer\")\n",
    "    .join(chirps, how=\"outer\")\n",
    "    .join(lst, how=\"outer\")\n",
    ")"
   ]
  },
  {
   "cell_type": "markdown",
   "id": "advance-florist",
   "metadata": {},
   "source": [
    "All of the data is indexed by country name, this final step re-merges some key country attributes that weren't preserved in the earlier steps (iso code etc.)"
   ]
  },
  {
   "cell_type": "code",
   "execution_count": 14,
   "id": "pending-annual",
   "metadata": {},
   "outputs": [],
   "source": [
    "full_21.sort_values([\"wb_adm0_na\", \"year\"], inplace=True)"
   ]
  },
  {
   "cell_type": "code",
   "execution_count": 15,
   "id": "posted-pressing",
   "metadata": {},
   "outputs": [],
   "source": [
    "adm0 = pd.read_csv(os.path.join(data_dir, \"Admin0_Polys_v3.csv\"), encoding=\"UTF-8\")"
   ]
  },
  {
   "cell_type": "code",
   "execution_count": 16,
   "id": "patient-injection",
   "metadata": {},
   "outputs": [],
   "source": [
    "adm0 = adm0.loc[adm0.WDI == 1].copy()"
   ]
  },
  {
   "cell_type": "code",
   "execution_count": 17,
   "id": "located-richardson",
   "metadata": {},
   "outputs": [],
   "source": [
    "adm0.drop(\n",
    "    [\"WDI\", \"Data\", \"FID_100\", \"latY\", \"longX\", \"Shape_Leng\", \"Shape_Area\"],\n",
    "    axis=1,\n",
    "    inplace=True,\n",
    ")"
   ]
  },
  {
   "cell_type": "code",
   "execution_count": 18,
   "id": "finnish-extension",
   "metadata": {},
   "outputs": [],
   "source": [
    "adm0.rename(str.lower, axis=1, inplace=True)"
   ]
  },
  {
   "cell_type": "code",
   "execution_count": 19,
   "id": "everyday-petite",
   "metadata": {},
   "outputs": [],
   "source": [
    "full_21.reset_index(inplace=True)"
   ]
  },
  {
   "cell_type": "code",
   "execution_count": 20,
   "id": "acknowledged-camel",
   "metadata": {},
   "outputs": [],
   "source": [
    "full_21.rename(columns={\"wb_adm0_na\": \"wb_adm0_na2\"}, inplace=True)"
   ]
  },
  {
   "cell_type": "code",
   "execution_count": 21,
   "id": "listed-optimum",
   "metadata": {},
   "outputs": [],
   "source": [
    "full_21_adm = full_21.merge(adm0, on=\"wb_adm0_na2\")"
   ]
  },
  {
   "cell_type": "code",
   "execution_count": 23,
   "id": "invalid-contents",
   "metadata": {},
   "outputs": [],
   "source": [
    "full_21_adm.drop(\"wb_adm0_na2\", inplace=True, axis=1)"
   ]
  },
  {
   "cell_type": "code",
   "execution_count": 24,
   "id": "extraordinary-restriction",
   "metadata": {},
   "outputs": [],
   "source": [
    "valid_codes = adm0.wb_adm0_na.unique()"
   ]
  },
  {
   "cell_type": "code",
   "execution_count": 25,
   "id": "wound-kuwait",
   "metadata": {},
   "outputs": [],
   "source": [
    "full_21_adm = full_21_adm.loc[full_21_adm.wb_adm0_na.isin(valid_codes)].copy()"
   ]
  },
  {
   "cell_type": "code",
   "execution_count": 43,
   "id": "generous-celebrity",
   "metadata": {},
   "outputs": [],
   "source": [
    "cols = adm0.columns.append(full_21.columns)"
   ]
  },
  {
   "cell_type": "code",
   "execution_count": 45,
   "id": "coated-richards",
   "metadata": {},
   "outputs": [],
   "source": [
    "cols = cols.drop(\"wb_adm0_na2\")"
   ]
  },
  {
   "cell_type": "code",
   "execution_count": 46,
   "id": "small-amplifier",
   "metadata": {},
   "outputs": [],
   "source": [
    "full_21_adm = full_21_adm[cols[~cols.duplicated()]].copy()"
   ]
  },
  {
   "cell_type": "code",
   "execution_count": 47,
   "id": "civic-military",
   "metadata": {},
   "outputs": [],
   "source": [
    "full_21_adm = full_21_adm.sort_values([\"wb_adm0_na\", \"year\"])"
   ]
  },
  {
   "cell_type": "code",
   "execution_count": 26,
   "id": "increasing-parameter",
   "metadata": {},
   "outputs": [
    {
     "data": {
      "text/plain": [
       "214"
      ]
     },
     "execution_count": 26,
     "metadata": {},
     "output_type": "execute_result"
    }
   ],
   "source": [
    "len(full_21_adm.wb_adm0_na.unique())"
   ]
  },
  {
   "cell_type": "code",
   "execution_count": 27,
   "id": "fabulous-office",
   "metadata": {},
   "outputs": [],
   "source": [
    "full_21_adm = full_21_adm.sort_values([\"wb_adm0_na\", \"year\"])"
   ]
  },
  {
   "cell_type": "code",
   "execution_count": 49,
   "id": "verbal-litigation",
   "metadata": {},
   "outputs": [],
   "source": [
    "current_data = pd.read_csv(\n",
    "    os.path.join(out_dir, \"Country Dataset June7.csv\"), encoding=\"UTF-8\", index_col=0\n",
    ")"
   ]
  },
  {
   "cell_type": "code",
   "execution_count": 55,
   "id": "extensive-subsection",
   "metadata": {},
   "outputs": [],
   "source": [
    "full_21_adm.set_index([\"wb_adm0_na\", \"year\"], inplace=True)\n",
    "current_data.set_index([\"wb_adm0_na\", \"year\"], inplace=True)"
   ]
  },
  {
   "cell_type": "code",
   "execution_count": 74,
   "id": "casual-comparative",
   "metadata": {},
   "outputs": [],
   "source": [
    "update = current_data.append(full_21_adm)"
   ]
  },
  {
   "cell_type": "code",
   "execution_count": 77,
   "id": "suffering-estonia",
   "metadata": {},
   "outputs": [],
   "source": [
    "update.drop_duplicates(keep=\"last\", inplace=True)"
   ]
  },
  {
   "cell_type": "code",
   "execution_count": 80,
   "id": "modern-buffalo",
   "metadata": {},
   "outputs": [],
   "source": [
    "update.sort_values([\"wb_adm0_na\", \"year\"], inplace=True)"
   ]
  }
 ],
 "metadata": {
  "kernelspec": {
   "display_name": "Earth Engine",
   "language": "python",
   "name": "ee"
  },
  "language_info": {
   "codemirror_mode": {
    "name": "ipython",
    "version": 3
   },
   "file_extension": ".py",
   "mimetype": "text/x-python",
   "name": "python",
   "nbconvert_exporter": "python",
   "pygments_lexer": "ipython3",
   "version": "3.8.8"
  },
  "toc": {
   "base_numbering": 1,
   "nav_menu": {},
   "number_sections": true,
   "sideBar": true,
   "skip_h1_title": false,
   "title_cell": "Table of Contents",
   "title_sidebar": "Contents",
   "toc_cell": false,
   "toc_position": {},
   "toc_section_display": true,
   "toc_window_display": false
  },
  "varInspector": {
   "cols": {
    "lenName": 16,
    "lenType": 16,
    "lenVar": 40
   },
   "kernels_config": {
    "python": {
     "delete_cmd_postfix": "",
     "delete_cmd_prefix": "del ",
     "library": "var_list.py",
     "varRefreshCmd": "print(var_dic_list())"
    },
    "r": {
     "delete_cmd_postfix": ") ",
     "delete_cmd_prefix": "rm(",
     "library": "var_list.r",
     "varRefreshCmd": "cat(var_dic_list()) "
    }
   },
   "types_to_exclude": [
    "module",
    "function",
    "builtin_function_or_method",
    "instance",
    "_Feature"
   ],
   "window_display": false
  }
 },
 "nbformat": 4,
 "nbformat_minor": 5
}
