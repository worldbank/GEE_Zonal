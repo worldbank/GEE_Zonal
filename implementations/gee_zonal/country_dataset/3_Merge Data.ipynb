{
 "cells": [
  {
   "cell_type": "markdown",
   "id": "rising-globe",
   "metadata": {},
   "source": [
    "This third notebook collects datasets from step 2, and merges them into one comprehensive table."
   ]
  },
  {
   "cell_type": "code",
   "execution_count": 3,
   "id": "strange-weekly",
   "metadata": {},
   "outputs": [],
   "source": [
    "import sys\n",
    "\n",
    "sys.path.append(\"../../src\")  # relative path where the library is stored"
   ]
  },
  {
   "cell_type": "code",
   "execution_count": 4,
   "id": "seven-enlargement",
   "metadata": {},
   "outputs": [],
   "source": [
    "import pandas as pd\n",
    "import os"
   ]
  },
  {
   "cell_type": "code",
   "execution_count": 171,
   "id": "developing-location",
   "metadata": {},
   "outputs": [],
   "source": [
    "data_dir = os.path.join(\"X:/data/ee\")\n",
    "out_dir = os.path.join(data_dir, \"output\")"
   ]
  },
  {
   "cell_type": "code",
   "execution_count": 159,
   "id": "prerequisite-central",
   "metadata": {},
   "outputs": [],
   "source": [
    "# pd.set_option('display.max_rows', None)"
   ]
  },
  {
   "cell_type": "code",
   "execution_count": 160,
   "id": "ceramic-sense",
   "metadata": {},
   "outputs": [],
   "source": [
    "# pd.set_option('display.max_columns', None)"
   ]
  },
  {
   "cell_type": "code",
   "execution_count": 164,
   "id": "eight-notion",
   "metadata": {},
   "outputs": [],
   "source": [
    "ndvi = pd.read_csv(\n",
    "    os.path.join(out_dir, \"ndvi.csv\"), encoding=\"UTF-8\"\n",
    ")  # index_col=[0,1]\n",
    "ndvi.set_index([\"wb_adm0_na\", \"year\"], inplace=True)\n",
    "ndvi = ndvi.loc[ndvi.landsat_id != \"LT04\"].copy()\n",
    "ndvi.loc[:, \"landsat_id\"] = pd.Categorical(\n",
    "    ndvi[\"landsat_id\"], categories=[\"LE07\", \"LT05\", \"LC08\"], ordered=True\n",
    ")\n",
    "ndvi.sort_values([\"wb_adm0_na\", \"year\", \"landsat_id\"], inplace=True)\n",
    "ndvi.reset_index(inplace=True)\n",
    "ndvi.drop_duplicates([\"wb_adm0_na\", \"year\"], keep=\"first\", inplace=True)\n",
    "ndvi.set_index([\"wb_adm0_na\", \"year\"], inplace=True)\n",
    "ndvi = ndvi.loc[:, ndvi.columns[[\"ndvi\" in col for col in ndvi.columns]]].copy()"
   ]
  },
  {
   "cell_type": "code",
   "execution_count": 142,
   "id": "placed-killer",
   "metadata": {},
   "outputs": [],
   "source": [
    "evi = pd.read_csv(os.path.join(out_dir, \"evi.csv\"), encoding=\"UTF-8\")\n",
    "evi.set_index([\"wb_adm0_na\", \"year\"], inplace=True)\n",
    "evi = evi.loc[evi.landsat_id != \"LT04\"].copy()\n",
    "evi.loc[:, \"landsat_id\"] = pd.Categorical(\n",
    "    evi[\"landsat_id\"], categories=[\"LE07\", \"LT05\", \"LC08\"], ordered=True\n",
    ")\n",
    "evi.sort_values([\"wb_adm0_na\", \"year\", \"landsat_id\"], inplace=True)\n",
    "evi.reset_index(inplace=True)\n",
    "evi.drop_duplicates([\"wb_adm0_na\", \"year\"], keep=\"first\", inplace=True)\n",
    "evi.set_index([\"wb_adm0_na\", \"year\"], inplace=True)\n",
    "evi = evi.loc[:, evi.columns[[\"evi\" in col for col in evi.columns]]].copy()"
   ]
  },
  {
   "cell_type": "code",
   "execution_count": 144,
   "id": "macro-senator",
   "metadata": {},
   "outputs": [],
   "source": [
    "ndsi = pd.read_csv(os.path.join(out_dir, \"ndsi.csv\"), encoding=\"UTF-8\")\n",
    "ndsi.set_index([\"wb_adm0_na\", \"year\"], inplace=True)\n",
    "ndsi = ndsi.loc[ndsi.landsat_id != \"LT04\"].copy()\n",
    "ndsi.loc[:, \"landsat_id\"] = pd.Categorical(\n",
    "    ndsi[\"landsat_id\"], categories=[\"LE07\", \"LT05\", \"LC08\"], ordered=True\n",
    ")\n",
    "ndsi.sort_values([\"wb_adm0_na\", \"year\", \"landsat_id\"], inplace=True)\n",
    "ndsi.reset_index(inplace=True)\n",
    "ndsi.drop_duplicates([\"wb_adm0_na\", \"year\"], keep=\"first\", inplace=True)\n",
    "ndsi.set_index([\"wb_adm0_na\", \"year\"], inplace=True)\n",
    "ndsi = ndsi.loc[:, ndsi.columns[[\"ndsi\" in col for col in ndsi.columns]]].copy()"
   ]
  },
  {
   "cell_type": "code",
   "execution_count": 145,
   "id": "unknown-specific",
   "metadata": {},
   "outputs": [],
   "source": [
    "ndwi = pd.read_csv(os.path.join(out_dir, \"ndwi.csv\"), encoding=\"UTF-8\")\n",
    "ndwi.set_index([\"wb_adm0_na\", \"year\"], inplace=True)\n",
    "ndwi = ndwi.loc[ndwi.landsat_id != \"LT04\"].copy()\n",
    "ndwi.loc[:, \"landsat_id\"] = pd.Categorical(\n",
    "    ndwi[\"landsat_id\"], categories=[\"LE07\", \"LT05\", \"LC08\"], ordered=True\n",
    ")\n",
    "ndwi.sort_values([\"wb_adm0_na\", \"year\", \"landsat_id\"], inplace=True)\n",
    "ndwi.reset_index(inplace=True)\n",
    "ndwi.drop_duplicates([\"wb_adm0_na\", \"year\"], keep=\"first\", inplace=True)\n",
    "ndwi.set_index([\"wb_adm0_na\", \"year\"], inplace=True)\n",
    "ndwi = ndwi.loc[:, ndwi.columns[[\"ndwi\" in col for col in ndwi.columns]]].copy()"
   ]
  },
  {
   "cell_type": "code",
   "execution_count": 146,
   "id": "ahead-brazil",
   "metadata": {},
   "outputs": [],
   "source": [
    "chirps = pd.read_csv(\n",
    "    os.path.join(out_dir, \"chirps.csv\"), encoding=\"UTF-8\"\n",
    ")  # index_col=[0,1]\n",
    "chirps.set_index([\"wb_adm0_na\", \"year\"], inplace=True)\n",
    "chirps.sort_values([\"wb_adm0_na\", \"year\"], inplace=True)\n",
    "chirps = chirps.loc[\n",
    "    :, chirps.columns[[\"precipitation\" in col for col in chirps.columns]]\n",
    "].copy()"
   ]
  },
  {
   "cell_type": "code",
   "execution_count": 147,
   "id": "decreased-statement",
   "metadata": {},
   "outputs": [],
   "source": [
    "lst = pd.read_csv(os.path.join(out_dir, \"temperature.csv\"), encoding=\"UTF-8\")\n",
    "lst.set_index([\"wb_adm0_na\", \"year\"], inplace=True)\n",
    "lst.sort_values([\"wb_adm0_na\", \"year\"], inplace=True)\n",
    "lst = lst.loc[:, lst.columns[[\"temperature\" in col for col in lst.columns]]].copy()"
   ]
  },
  {
   "cell_type": "code",
   "execution_count": 148,
   "id": "neutral-vaccine",
   "metadata": {},
   "outputs": [],
   "source": [
    "dmps = pd.read_csv(os.path.join(out_dir, \"dmps.csv\"), encoding=\"UTF-8\")\n",
    "dmps.set_index([\"wb_adm0_na\", \"year\"], inplace=True)\n",
    "dmps = dmps.loc[:, dmps.columns[[\"lights\" in col for col in dmps.columns]]].copy()\n",
    "dmps.loc[:, \"lights_source\"] = \"DMPS\""
   ]
  },
  {
   "cell_type": "code",
   "execution_count": 149,
   "id": "fifth-transition",
   "metadata": {},
   "outputs": [],
   "source": [
    "viirs = pd.read_csv(os.path.join(out_dir, \"viirs.csv\"), encoding=\"UTF-8\")\n",
    "viirs.set_index([\"wb_adm0_na\", \"year\"], inplace=True)\n",
    "viirs = viirs.loc[:, viirs.columns[[\"lights\" in col for col in viirs.columns]]].copy()\n",
    "viirs.loc[:, \"lights_source\"] = \"VIIRS\""
   ]
  },
  {
   "cell_type": "code",
   "execution_count": 150,
   "id": "representative-mambo",
   "metadata": {},
   "outputs": [],
   "source": [
    "lights = pd.concat([dmps, viirs])\n",
    "lights.sort_values([\"wb_adm0_na\", \"year\"], inplace=True)"
   ]
  },
  {
   "cell_type": "code",
   "execution_count": 151,
   "id": "outstanding-platform",
   "metadata": {},
   "outputs": [],
   "source": [
    "cropland = pd.read_csv(os.path.join(out_dir, \"cropland.csv\"), encoding=\"UTF-8\")\n",
    "cropland.set_index([\"wb_adm0_na\", \"year\"], inplace=True)\n",
    "cropland.sort_values([\"wb_adm0_na\", \"year\"], inplace=True)\n",
    "cropland = cropland[[\"cropland\"]].copy()"
   ]
  },
  {
   "cell_type": "code",
   "execution_count": 152,
   "id": "swedish-melissa",
   "metadata": {},
   "outputs": [],
   "source": [
    "impervious = pd.read_csv(os.path.join(out_dir, \"impervious.csv\"), encoding=\"UTF-8\")\n",
    "impervious.set_index([\"wb_adm0_na\", \"year\"], inplace=True)\n",
    "impervious.sort_values([\"wb_adm0_na\", \"year\"], inplace=True)\n",
    "impervious.rename(columns={\"imperv\": \"impervious\"}, inplace=True)\n",
    "impervious = impervious[[\"impervious\"]].copy()"
   ]
  },
  {
   "cell_type": "code",
   "execution_count": 173,
   "id": "assigned-affect",
   "metadata": {},
   "outputs": [],
   "source": [
    "full_all = (\n",
    "    ndvi.join(evi, how=\"outer\")\n",
    "    .join(ndsi, how=\"outer\")\n",
    "    .join(ndwi, how=\"outer\")\n",
    "    .join(chirps, how=\"outer\")\n",
    "    .join(lst, how=\"outer\")\n",
    "    .join(lights, how=\"outer\")\n",
    "    .join(cropland, how=\"outer\")\n",
    "    .join(impervious, how=\"outer\")\n",
    ")"
   ]
  },
  {
   "cell_type": "code",
   "execution_count": 298,
   "id": "incredible-honduras",
   "metadata": {},
   "outputs": [
    {
     "data": {
      "text/html": [
       "<div>\n",
       "<style scoped>\n",
       "    .dataframe tbody tr th:only-of-type {\n",
       "        vertical-align: middle;\n",
       "    }\n",
       "\n",
       "    .dataframe tbody tr th {\n",
       "        vertical-align: top;\n",
       "    }\n",
       "\n",
       "    .dataframe thead th {\n",
       "        text-align: right;\n",
       "    }\n",
       "</style>\n",
       "<table border=\"1\" class=\"dataframe\">\n",
       "  <thead>\n",
       "    <tr style=\"text-align: right;\">\n",
       "      <th></th>\n",
       "      <th></th>\n",
       "      <th>ndvi_max_mean</th>\n",
       "      <th>ndvi_max_max</th>\n",
       "      <th>ndvi_max_min</th>\n",
       "      <th>ndvi_max_stddev</th>\n",
       "      <th>ndvi_mean_mean</th>\n",
       "      <th>ndvi_mean_max</th>\n",
       "      <th>ndvi_mean_min</th>\n",
       "      <th>ndvi_mean_stddev</th>\n",
       "      <th>ndvi_min_mean</th>\n",
       "      <th>ndvi_min_max</th>\n",
       "      <th>...</th>\n",
       "      <th>lights_mean_max</th>\n",
       "      <th>lights_mean_min</th>\n",
       "      <th>lights_mean_stddev</th>\n",
       "      <th>lights_sum_mean</th>\n",
       "      <th>lights_sum_max</th>\n",
       "      <th>lights_sum_min</th>\n",
       "      <th>lights_sum_stddev</th>\n",
       "      <th>lights_source</th>\n",
       "      <th>cropland</th>\n",
       "      <th>impervious</th>\n",
       "    </tr>\n",
       "    <tr>\n",
       "      <th>wb_adm0_na</th>\n",
       "      <th>year</th>\n",
       "      <th></th>\n",
       "      <th></th>\n",
       "      <th></th>\n",
       "      <th></th>\n",
       "      <th></th>\n",
       "      <th></th>\n",
       "      <th></th>\n",
       "      <th></th>\n",
       "      <th></th>\n",
       "      <th></th>\n",
       "      <th></th>\n",
       "      <th></th>\n",
       "      <th></th>\n",
       "      <th></th>\n",
       "      <th></th>\n",
       "      <th></th>\n",
       "      <th></th>\n",
       "      <th></th>\n",
       "      <th></th>\n",
       "      <th></th>\n",
       "      <th></th>\n",
       "    </tr>\n",
       "  </thead>\n",
       "  <tbody>\n",
       "    <tr>\n",
       "      <th rowspan=\"5\" valign=\"top\">Afghanistan</th>\n",
       "      <th>1981</th>\n",
       "      <td>NaN</td>\n",
       "      <td>NaN</td>\n",
       "      <td>NaN</td>\n",
       "      <td>NaN</td>\n",
       "      <td>NaN</td>\n",
       "      <td>NaN</td>\n",
       "      <td>NaN</td>\n",
       "      <td>NaN</td>\n",
       "      <td>NaN</td>\n",
       "      <td>NaN</td>\n",
       "      <td>...</td>\n",
       "      <td>NaN</td>\n",
       "      <td>NaN</td>\n",
       "      <td>NaN</td>\n",
       "      <td>NaN</td>\n",
       "      <td>NaN</td>\n",
       "      <td>NaN</td>\n",
       "      <td>NaN</td>\n",
       "      <td>NaN</td>\n",
       "      <td>NaN</td>\n",
       "      <td>NaN</td>\n",
       "    </tr>\n",
       "    <tr>\n",
       "      <th>1982</th>\n",
       "      <td>NaN</td>\n",
       "      <td>NaN</td>\n",
       "      <td>NaN</td>\n",
       "      <td>NaN</td>\n",
       "      <td>NaN</td>\n",
       "      <td>NaN</td>\n",
       "      <td>NaN</td>\n",
       "      <td>NaN</td>\n",
       "      <td>NaN</td>\n",
       "      <td>NaN</td>\n",
       "      <td>...</td>\n",
       "      <td>NaN</td>\n",
       "      <td>NaN</td>\n",
       "      <td>NaN</td>\n",
       "      <td>NaN</td>\n",
       "      <td>NaN</td>\n",
       "      <td>NaN</td>\n",
       "      <td>NaN</td>\n",
       "      <td>NaN</td>\n",
       "      <td>NaN</td>\n",
       "      <td>NaN</td>\n",
       "    </tr>\n",
       "    <tr>\n",
       "      <th>1983</th>\n",
       "      <td>NaN</td>\n",
       "      <td>NaN</td>\n",
       "      <td>NaN</td>\n",
       "      <td>NaN</td>\n",
       "      <td>NaN</td>\n",
       "      <td>NaN</td>\n",
       "      <td>NaN</td>\n",
       "      <td>NaN</td>\n",
       "      <td>NaN</td>\n",
       "      <td>NaN</td>\n",
       "      <td>...</td>\n",
       "      <td>NaN</td>\n",
       "      <td>NaN</td>\n",
       "      <td>NaN</td>\n",
       "      <td>NaN</td>\n",
       "      <td>NaN</td>\n",
       "      <td>NaN</td>\n",
       "      <td>NaN</td>\n",
       "      <td>NaN</td>\n",
       "      <td>NaN</td>\n",
       "      <td>NaN</td>\n",
       "    </tr>\n",
       "    <tr>\n",
       "      <th>1984</th>\n",
       "      <td>0.130574</td>\n",
       "      <td>0.608111</td>\n",
       "      <td>0.100058</td>\n",
       "      <td>0.027664</td>\n",
       "      <td>0.115946</td>\n",
       "      <td>0.608111</td>\n",
       "      <td>0.1</td>\n",
       "      <td>0.023194</td>\n",
       "      <td>0.128533</td>\n",
       "      <td>0.608111</td>\n",
       "      <td>...</td>\n",
       "      <td>NaN</td>\n",
       "      <td>NaN</td>\n",
       "      <td>NaN</td>\n",
       "      <td>NaN</td>\n",
       "      <td>NaN</td>\n",
       "      <td>NaN</td>\n",
       "      <td>NaN</td>\n",
       "      <td>NaN</td>\n",
       "      <td>NaN</td>\n",
       "      <td>NaN</td>\n",
       "    </tr>\n",
       "    <tr>\n",
       "      <th>1985</th>\n",
       "      <td>0.176471</td>\n",
       "      <td>0.716247</td>\n",
       "      <td>0.100016</td>\n",
       "      <td>0.084024</td>\n",
       "      <td>0.149542</td>\n",
       "      <td>0.606061</td>\n",
       "      <td>0.1</td>\n",
       "      <td>0.049189</td>\n",
       "      <td>0.128159</td>\n",
       "      <td>0.606061</td>\n",
       "      <td>...</td>\n",
       "      <td>NaN</td>\n",
       "      <td>NaN</td>\n",
       "      <td>NaN</td>\n",
       "      <td>NaN</td>\n",
       "      <td>NaN</td>\n",
       "      <td>NaN</td>\n",
       "      <td>NaN</td>\n",
       "      <td>NaN</td>\n",
       "      <td>NaN</td>\n",
       "      <td>7.979241e+06</td>\n",
       "    </tr>\n",
       "  </tbody>\n",
       "</table>\n",
       "<p>5 rows × 100 columns</p>\n",
       "</div>"
      ],
      "text/plain": [
       "                  ndvi_max_mean  ndvi_max_max  ndvi_max_min  ndvi_max_stddev  \\\n",
       "wb_adm0_na  year                                                               \n",
       "Afghanistan 1981            NaN           NaN           NaN              NaN   \n",
       "            1982            NaN           NaN           NaN              NaN   \n",
       "            1983            NaN           NaN           NaN              NaN   \n",
       "            1984       0.130574      0.608111      0.100058         0.027664   \n",
       "            1985       0.176471      0.716247      0.100016         0.084024   \n",
       "\n",
       "                  ndvi_mean_mean  ndvi_mean_max  ndvi_mean_min  \\\n",
       "wb_adm0_na  year                                                 \n",
       "Afghanistan 1981             NaN            NaN            NaN   \n",
       "            1982             NaN            NaN            NaN   \n",
       "            1983             NaN            NaN            NaN   \n",
       "            1984        0.115946       0.608111            0.1   \n",
       "            1985        0.149542       0.606061            0.1   \n",
       "\n",
       "                  ndvi_mean_stddev  ndvi_min_mean  ndvi_min_max  ...  \\\n",
       "wb_adm0_na  year                                                 ...   \n",
       "Afghanistan 1981               NaN            NaN           NaN  ...   \n",
       "            1982               NaN            NaN           NaN  ...   \n",
       "            1983               NaN            NaN           NaN  ...   \n",
       "            1984          0.023194       0.128533      0.608111  ...   \n",
       "            1985          0.049189       0.128159      0.606061  ...   \n",
       "\n",
       "                  lights_mean_max  lights_mean_min  lights_mean_stddev  \\\n",
       "wb_adm0_na  year                                                         \n",
       "Afghanistan 1981              NaN              NaN                 NaN   \n",
       "            1982              NaN              NaN                 NaN   \n",
       "            1983              NaN              NaN                 NaN   \n",
       "            1984              NaN              NaN                 NaN   \n",
       "            1985              NaN              NaN                 NaN   \n",
       "\n",
       "                  lights_sum_mean  lights_sum_max  lights_sum_min  \\\n",
       "wb_adm0_na  year                                                    \n",
       "Afghanistan 1981              NaN             NaN             NaN   \n",
       "            1982              NaN             NaN             NaN   \n",
       "            1983              NaN             NaN             NaN   \n",
       "            1984              NaN             NaN             NaN   \n",
       "            1985              NaN             NaN             NaN   \n",
       "\n",
       "                  lights_sum_stddev  lights_source  cropland    impervious  \n",
       "wb_adm0_na  year                                                            \n",
       "Afghanistan 1981                NaN            NaN       NaN           NaN  \n",
       "            1982                NaN            NaN       NaN           NaN  \n",
       "            1983                NaN            NaN       NaN           NaN  \n",
       "            1984                NaN            NaN       NaN           NaN  \n",
       "            1985                NaN            NaN       NaN  7.979241e+06  \n",
       "\n",
       "[5 rows x 100 columns]"
      ]
     },
     "execution_count": 298,
     "metadata": {},
     "output_type": "execute_result"
    }
   ],
   "source": [
    "full_all.head()"
   ]
  },
  {
   "cell_type": "markdown",
   "id": "biblical-geneva",
   "metadata": {},
   "source": [
    "All of the data is indexed by country name, this final step re-merges some key country attributes that weren't preserved in the earlier steps (iso code etc.)"
   ]
  },
  {
   "cell_type": "code",
   "execution_count": 299,
   "id": "pending-annual",
   "metadata": {},
   "outputs": [],
   "source": [
    "full_all.sort_values([\"wb_adm0_na\", \"year\"], inplace=True)"
   ]
  },
  {
   "cell_type": "code",
   "execution_count": 287,
   "id": "posted-pressing",
   "metadata": {},
   "outputs": [],
   "source": [
    "adm0 = pd.read_csv(os.path.join(data_dir, \"Admin0_Polys_v3.csv\"), encoding=\"UTF-8\")"
   ]
  },
  {
   "cell_type": "code",
   "execution_count": 289,
   "id": "patient-injection",
   "metadata": {},
   "outputs": [],
   "source": [
    "adm0 = adm0.loc[adm0.WDI == 1].copy()"
   ]
  },
  {
   "cell_type": "code",
   "execution_count": 292,
   "id": "located-richardson",
   "metadata": {},
   "outputs": [],
   "source": [
    "adm0.drop(\n",
    "    [\"WDI\", \"Data\", \"FID_100\", \"latY\", \"longX\", \"Shape_Leng\", \"Shape_Area\"],\n",
    "    axis=1,\n",
    "    inplace=True,\n",
    ")"
   ]
  },
  {
   "cell_type": "code",
   "execution_count": 293,
   "id": "finnish-extension",
   "metadata": {},
   "outputs": [],
   "source": [
    "adm0.rename(str.lower, axis=1, inplace=True)"
   ]
  },
  {
   "cell_type": "code",
   "execution_count": 300,
   "id": "everyday-petite",
   "metadata": {},
   "outputs": [],
   "source": [
    "full_all.reset_index(inplace=True)"
   ]
  },
  {
   "cell_type": "code",
   "execution_count": 301,
   "id": "acknowledged-camel",
   "metadata": {},
   "outputs": [],
   "source": [
    "full_all.rename(columns={\"wb_adm0_na\": \"wb_adm0_na2\"}, inplace=True)"
   ]
  },
  {
   "cell_type": "code",
   "execution_count": 302,
   "id": "listed-optimum",
   "metadata": {},
   "outputs": [],
   "source": [
    "full_all_adm = full_all.merge(adm0, on=\"wb_adm0_na2\")"
   ]
  },
  {
   "cell_type": "code",
   "execution_count": 303,
   "id": "invalid-contents",
   "metadata": {},
   "outputs": [],
   "source": [
    "full_all_adm.drop(\"wb_adm0_na2\", inplace=True, axis=1)"
   ]
  },
  {
   "cell_type": "code",
   "execution_count": 304,
   "id": "static-harvest",
   "metadata": {},
   "outputs": [],
   "source": [
    "# full_all_adm.wb_adm0_na.unique()"
   ]
  },
  {
   "cell_type": "code",
   "execution_count": 305,
   "id": "extraordinary-restriction",
   "metadata": {},
   "outputs": [],
   "source": [
    "valid_codes = adm0.wb_adm0_na.unique()"
   ]
  },
  {
   "cell_type": "code",
   "execution_count": 306,
   "id": "wound-kuwait",
   "metadata": {},
   "outputs": [],
   "source": [
    "full_all_adm = full_all_adm.loc[full_all_adm.wb_adm0_na.isin(valid_codes)].copy()"
   ]
  },
  {
   "cell_type": "code",
   "execution_count": 307,
   "id": "increasing-parameter",
   "metadata": {},
   "outputs": [
    {
     "data": {
      "text/plain": [
       "216"
      ]
     },
     "execution_count": 307,
     "metadata": {},
     "output_type": "execute_result"
    }
   ],
   "source": [
    "len(full_all_adm.wb_adm0_na.unique())"
   ]
  },
  {
   "cell_type": "code",
   "execution_count": 308,
   "id": "scientific-inspiration",
   "metadata": {},
   "outputs": [],
   "source": [
    "cols = adm0.columns.append(full_all.columns)"
   ]
  },
  {
   "cell_type": "code",
   "execution_count": 309,
   "id": "graphic-communication",
   "metadata": {},
   "outputs": [],
   "source": [
    "cols = cols.drop(\"wb_adm0_na2\")"
   ]
  },
  {
   "cell_type": "code",
   "execution_count": 310,
   "id": "resident-demographic",
   "metadata": {},
   "outputs": [],
   "source": [
    "full_all_adm = full_all_adm[cols[~cols.duplicated()]].copy()"
   ]
  },
  {
   "cell_type": "code",
   "execution_count": 311,
   "id": "fabulous-office",
   "metadata": {},
   "outputs": [],
   "source": [
    "full_all_adm = full_all_adm.sort_values([\"wb_adm0_na\", \"year\"])"
   ]
  },
  {
   "cell_type": "code",
   "execution_count": 312,
   "id": "engaged-carol",
   "metadata": {},
   "outputs": [
    {
     "data": {
      "text/plain": [
       "(8854, 111)"
      ]
     },
     "execution_count": 312,
     "metadata": {},
     "output_type": "execute_result"
    }
   ],
   "source": [
    "full_all_adm.shape"
   ]
  },
  {
   "cell_type": "code",
   "execution_count": 313,
   "id": "accompanied-pressure",
   "metadata": {},
   "outputs": [
    {
     "data": {
      "text/plain": [
       "41"
      ]
     },
     "execution_count": 313,
     "metadata": {},
     "output_type": "execute_result"
    }
   ],
   "source": [
    "len(full_all_adm.year.unique())"
   ]
  },
  {
   "cell_type": "code",
   "execution_count": 314,
   "id": "collect-reynolds",
   "metadata": {},
   "outputs": [
    {
     "data": {
      "text/plain": [
       "216"
      ]
     },
     "execution_count": 314,
     "metadata": {},
     "output_type": "execute_result"
    }
   ],
   "source": [
    "len(full_all_adm.wb_adm0_na.unique())"
   ]
  },
  {
   "cell_type": "code",
   "execution_count": 315,
   "id": "opposite-burns",
   "metadata": {},
   "outputs": [
    {
     "data": {
      "text/plain": [
       "8938"
      ]
     },
     "execution_count": 315,
     "metadata": {},
     "output_type": "execute_result"
    }
   ],
   "source": [
    "218 * 41"
   ]
  },
  {
   "cell_type": "code",
   "execution_count": 316,
   "id": "verbal-litigation",
   "metadata": {},
   "outputs": [],
   "source": [
    "full_all_adm.to_csv(os.path.join(out_dir, \"Country Dataset June7.csv\"))"
   ]
  }
 ],
 "metadata": {
  "kernelspec": {
   "display_name": "Earth Engine",
   "language": "python",
   "name": "ee"
  },
  "language_info": {
   "codemirror_mode": {
    "name": "ipython",
    "version": 3
   },
   "file_extension": ".py",
   "mimetype": "text/x-python",
   "name": "python",
   "nbconvert_exporter": "python",
   "pygments_lexer": "ipython3",
   "version": "3.8.8"
  },
  "toc": {
   "base_numbering": 1,
   "nav_menu": {},
   "number_sections": true,
   "sideBar": true,
   "skip_h1_title": false,
   "title_cell": "Table of Contents",
   "title_sidebar": "Contents",
   "toc_cell": false,
   "toc_position": {},
   "toc_section_display": true,
   "toc_window_display": false
  },
  "varInspector": {
   "cols": {
    "lenName": 16,
    "lenType": 16,
    "lenVar": 40
   },
   "kernels_config": {
    "python": {
     "delete_cmd_postfix": "",
     "delete_cmd_prefix": "del ",
     "library": "var_list.py",
     "varRefreshCmd": "print(var_dic_list())"
    },
    "r": {
     "delete_cmd_postfix": ") ",
     "delete_cmd_prefix": "rm(",
     "library": "var_list.r",
     "varRefreshCmd": "cat(var_dic_list()) "
    }
   },
   "types_to_exclude": [
    "module",
    "function",
    "builtin_function_or_method",
    "instance",
    "_Feature"
   ],
   "window_display": false
  }
 },
 "nbformat": 4,
 "nbformat_minor": 5
}
