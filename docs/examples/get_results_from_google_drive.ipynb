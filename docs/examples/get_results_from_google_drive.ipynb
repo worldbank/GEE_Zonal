{
 "cells": [
  {
   "cell_type": "markdown",
   "id": "standing-pollution",
   "metadata": {},
   "source": [
    "# Get Results from Google Drive\n",
    "\n",
    "This notebook demos how to automatically get results from Google Drive. Prior to running, you have to install pydrive and follow the authentication steps to link your Google Drive account.\n",
    "\n",
    "Follow the [instructions](https://pythonhosted.org/PyDrive/quickstart.html) to obtain a client configuration file `client_secrets.json`.\n",
    "\n",
    "One additional step required is **go to Audience and add your email as a test user.** Otherwise, you will have to publish the application.\n",
    "\n",
    "Place the `client_secrets.json` file in a folder such that the `authenticateGoogleDrive()` function can find it. By default the function looks for the file in `~/.config/creds/client_secrets.json`. You can change this by passing the `creds_dir` argument to the function."
   ]
  },
  {
   "cell_type": "code",
   "execution_count": null,
   "id": "e1dfdc37",
   "metadata": {},
   "outputs": [],
   "source": [
    "# !pip install gee_zonal"
   ]
  },
  {
   "cell_type": "code",
   "execution_count": 2,
   "id": "threatened-relative",
   "metadata": {},
   "outputs": [],
   "source": [
    "import ee\n",
    "from gee_zonal import ZonalStats, authenticateGoogleDrive"
   ]
  },
  {
   "cell_type": "code",
   "execution_count": null,
   "id": "32cb435c",
   "metadata": {},
   "outputs": [],
   "source": [
    "drive = authenticateGoogleDrive()"
   ]
  },
  {
   "cell_type": "code",
   "execution_count": null,
   "id": "114d1336",
   "metadata": {},
   "outputs": [],
   "source": [
    "gaul_adm1 = ee.FeatureCollection(\"projects/sat-io/open-datasets/FAO/GAUL/GAUL_2024_L1\")\n",
    "AOIs_AFR = gaul_adm1.filterMetadata(\"continent\", \"equals\", \"Africa\")"
   ]
  },
  {
   "cell_type": "code",
   "execution_count": null,
   "id": "8df90664",
   "metadata": {},
   "outputs": [],
   "source": [
    "zs = ZonalStats(\n",
    "    collection_id=\"UCSB-CHG/CHIRPS/PENTAD\",\n",
    "    target_features=AOIs_AFR,\n",
    "    statistic_type=\"mean\",\n",
    "    frequency=\"annual\",\n",
    "    temporal_stat=\"sum\",\n",
    "    scale=5000,\n",
    "    output_dir=\"africa\",\n",
    "    output_name=\"precipitation\",\n",
    ")"
   ]
  },
  {
   "cell_type": "code",
   "execution_count": null,
   "id": "999e7503",
   "metadata": {},
   "outputs": [],
   "source": [
    "zs.runZonalStats()"
   ]
  },
  {
   "cell_type": "code",
   "execution_count": null,
   "id": "767be14f",
   "metadata": {},
   "outputs": [],
   "source": [
    "zs.reportRunTime()"
   ]
  },
  {
   "cell_type": "code",
   "execution_count": 17,
   "id": "japanese-feeling",
   "metadata": {},
   "outputs": [],
   "source": [
    "df = zs.getZonalStats(drive)"
   ]
  },
  {
   "cell_type": "code",
   "execution_count": null,
   "id": "a81fc341",
   "metadata": {},
   "outputs": [],
   "source": [
    "df.head()"
   ]
  }
 ],
 "metadata": {
  "kernelspec": {
   "display_name": "Earth Engine",
   "language": "python",
   "name": "ee"
  },
  "language_info": {
   "codemirror_mode": {
    "name": "ipython",
    "version": 3
   },
   "file_extension": ".py",
   "mimetype": "text/x-python",
   "name": "python",
   "nbconvert_exporter": "python",
   "pygments_lexer": "ipython3",
   "version": "3.8.8"
  },
  "toc": {
   "base_numbering": 1,
   "nav_menu": {},
   "number_sections": true,
   "sideBar": true,
   "skip_h1_title": false,
   "title_cell": "Table of Contents",
   "title_sidebar": "Contents",
   "toc_cell": false,
   "toc_position": {},
   "toc_section_display": true,
   "toc_window_display": false
  },
  "varInspector": {
   "cols": {
    "lenName": 16,
    "lenType": 16,
    "lenVar": 40
   },
   "kernels_config": {
    "python": {
     "delete_cmd_postfix": "",
     "delete_cmd_prefix": "del ",
     "library": "var_list.py",
     "varRefreshCmd": "print(var_dic_list())"
    },
    "r": {
     "delete_cmd_postfix": ") ",
     "delete_cmd_prefix": "rm(",
     "library": "var_list.r",
     "varRefreshCmd": "cat(var_dic_list()) "
    }
   },
   "types_to_exclude": [
    "module",
    "function",
    "builtin_function_or_method",
    "instance",
    "_Feature"
   ],
   "window_display": false
  }
 },
 "nbformat": 4,
 "nbformat_minor": 5
}
