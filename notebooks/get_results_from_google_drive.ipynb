{
 "cells": [
  {
   "cell_type": "markdown",
   "id": "standing-pollution",
   "metadata": {},
   "source": [
    "This notebook demos how to automatically get results from Google Drive. Prior to running, you have to install pydrive and follow the authentication steps to link your Google Drive account. https://pythonhosted.org/PyDrive/quickstart.html#authentication"
   ]
  },
  {
   "cell_type": "code",
   "execution_count": 1,
   "id": "falling-senegal",
   "metadata": {},
   "outputs": [],
   "source": [
    "import sys\n",
    "\n",
    "sys.path.append(\"../src\")"
   ]
  },
  {
   "cell_type": "code",
   "execution_count": 2,
   "id": "threatened-relative",
   "metadata": {},
   "outputs": [],
   "source": [
    "from gee_tools import ZonalStats\n",
    "import ee\n",
    "from gee_helpers import authenticateGoogleDrive"
   ]
  },
  {
   "cell_type": "code",
   "execution_count": 3,
   "id": "configured-worst",
   "metadata": {},
   "outputs": [],
   "source": [
    "%load_ext autoreload\n",
    "%autoreload 2"
   ]
  },
  {
   "cell_type": "code",
   "execution_count": 4,
   "id": "sublime-copyright",
   "metadata": {},
   "outputs": [],
   "source": [
    "ee.Initialize()"
   ]
  },
  {
   "cell_type": "code",
   "execution_count": 5,
   "id": "structural-course",
   "metadata": {},
   "outputs": [],
   "source": [
    "AOIs = ee.FeatureCollection(\"users/afche18/Ethiopia_AOI\")"
   ]
  },
  {
   "cell_type": "code",
   "execution_count": 6,
   "id": "skilled-angola",
   "metadata": {},
   "outputs": [],
   "source": [
    "zs = ZonalStats(\n",
    "    collection_id=\"LANDSAT/LC08/C01/T1_8DAY_NDVI\",\n",
    "    target_features=AOIs,\n",
    "    statistic_type=\"mean\",\n",
    "    temporal_stat=\"mean\",\n",
    "    frequency=\"annual\",\n",
    "    start_year=2018,\n",
    "    end_year=2020,\n",
    "    output_dir=\"gdrive_folder\",\n",
    "    output_name=\"pretty_output3\",\n",
    ")"
   ]
  },
  {
   "cell_type": "code",
   "execution_count": 7,
   "id": "proper-woman",
   "metadata": {},
   "outputs": [],
   "source": [
    "zs.runZonalStats()"
   ]
  },
  {
   "cell_type": "code",
   "execution_count": 8,
   "id": "distant-genesis",
   "metadata": {},
   "outputs": [
    {
     "data": {
      "text/plain": [
       "{'state': 'READY',\n",
       " 'description': 'Zonal statistics for T1_8DAY_NDVI',\n",
       " 'creation_timestamp_ms': 1633632051111,\n",
       " 'update_timestamp_ms': 1633632051111,\n",
       " 'start_timestamp_ms': 0,\n",
       " 'task_type': 'EXPORT_FEATURES',\n",
       " 'id': 'CBAGSQA6MCNY26452XDPHNHC',\n",
       " 'name': 'projects/earthengine-legacy/operations/CBAGSQA6MCNY26452XDPHNHC'}"
      ]
     },
     "execution_count": 8,
     "metadata": {},
     "output_type": "execute_result"
    }
   ],
   "source": [
    "zs.task.status()"
   ]
  },
  {
   "cell_type": "code",
   "execution_count": 9,
   "id": "limiting-mailing",
   "metadata": {},
   "outputs": [
    {
     "data": {
      "text/plain": [
       "'READY'"
      ]
     },
     "execution_count": 9,
     "metadata": {},
     "output_type": "execute_result"
    }
   ],
   "source": [
    "zs.task.status()[\"state\"]"
   ]
  },
  {
   "cell_type": "code",
   "execution_count": 14,
   "id": "ideal-david",
   "metadata": {},
   "outputs": [
    {
     "name": "stdout",
     "output_type": "stream",
     "text": [
      "Completed\n",
      "Runtime: 0 minutes and 2 seconds\n"
     ]
    }
   ],
   "source": [
    "zs.reportRunTime()"
   ]
  },
  {
   "cell_type": "code",
   "execution_count": 15,
   "id": "tracked-capacity",
   "metadata": {},
   "outputs": [],
   "source": [
    "drive = authenticateGoogleDrive()"
   ]
  },
  {
   "cell_type": "code",
   "execution_count": 17,
   "id": "japanese-feeling",
   "metadata": {},
   "outputs": [],
   "source": [
    "df = zs.getZonalStats(drive)"
   ]
  },
  {
   "cell_type": "code",
   "execution_count": 18,
   "id": "allied-violin",
   "metadata": {},
   "outputs": [
    {
     "data": {
      "text/html": [
       "<div>\n",
       "<style scoped>\n",
       "    .dataframe tbody tr th:only-of-type {\n",
       "        vertical-align: middle;\n",
       "    }\n",
       "\n",
       "    .dataframe tbody tr th {\n",
       "        vertical-align: top;\n",
       "    }\n",
       "\n",
       "    .dataframe thead th {\n",
       "        text-align: right;\n",
       "    }\n",
       "</style>\n",
       "<table border=\"1\" class=\"dataframe\">\n",
       "  <thead>\n",
       "    <tr style=\"text-align: right;\">\n",
       "      <th></th>\n",
       "      <th>system:index</th>\n",
       "      <th>2018_NDVI_mean</th>\n",
       "      <th>2019_NDVI_mean</th>\n",
       "      <th>Area</th>\n",
       "      <th>Id</th>\n",
       "    </tr>\n",
       "  </thead>\n",
       "  <tbody>\n",
       "    <tr>\n",
       "      <th>0</th>\n",
       "      <td>0</td>\n",
       "      <td>0.269451</td>\n",
       "      <td>0.271191</td>\n",
       "      <td>586.656</td>\n",
       "      <td>0</td>\n",
       "    </tr>\n",
       "    <tr>\n",
       "      <th>1</th>\n",
       "      <td>1</td>\n",
       "      <td>0.477646</td>\n",
       "      <td>0.503715</td>\n",
       "      <td>523.326</td>\n",
       "      <td>1</td>\n",
       "    </tr>\n",
       "  </tbody>\n",
       "</table>\n",
       "</div>"
      ],
      "text/plain": [
       "   system:index  2018_NDVI_mean  2019_NDVI_mean     Area  Id\n",
       "0             0        0.269451        0.271191  586.656   0\n",
       "1             1        0.477646        0.503715  523.326   1"
      ]
     },
     "execution_count": 18,
     "metadata": {},
     "output_type": "execute_result"
    }
   ],
   "source": [
    "df"
   ]
  }
 ],
 "metadata": {
  "kernelspec": {
   "display_name": "Earth Engine",
   "language": "python",
   "name": "ee"
  },
  "language_info": {
   "codemirror_mode": {
    "name": "ipython",
    "version": 3
   },
   "file_extension": ".py",
   "mimetype": "text/x-python",
   "name": "python",
   "nbconvert_exporter": "python",
   "pygments_lexer": "ipython3",
   "version": "3.8.8"
  },
  "toc": {
   "base_numbering": 1,
   "nav_menu": {},
   "number_sections": true,
   "sideBar": true,
   "skip_h1_title": false,
   "title_cell": "Table of Contents",
   "title_sidebar": "Contents",
   "toc_cell": false,
   "toc_position": {},
   "toc_section_display": true,
   "toc_window_display": false
  },
  "varInspector": {
   "cols": {
    "lenName": 16,
    "lenType": 16,
    "lenVar": 40
   },
   "kernels_config": {
    "python": {
     "delete_cmd_postfix": "",
     "delete_cmd_prefix": "del ",
     "library": "var_list.py",
     "varRefreshCmd": "print(var_dic_list())"
    },
    "r": {
     "delete_cmd_postfix": ") ",
     "delete_cmd_prefix": "rm(",
     "library": "var_list.r",
     "varRefreshCmd": "cat(var_dic_list()) "
    }
   },
   "types_to_exclude": [
    "module",
    "function",
    "builtin_function_or_method",
    "instance",
    "_Feature"
   ],
   "window_display": false
  }
 },
 "nbformat": 4,
 "nbformat_minor": 5
}
